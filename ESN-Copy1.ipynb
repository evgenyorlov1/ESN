{
 "cells": [
  {
   "cell_type": "code",
   "execution_count": 17,
   "metadata": {
    "collapsed": false
   },
   "outputs": [],
   "source": [
    "import numpy as np\n",
    "import pandas as pd\n",
    "import scipy.sparse as sparse\n",
    "\n",
    "from sklearn import preprocessing\n",
    "from sklearn.model_selection import train_test_split\n",
    "\n",
    "import matplotlib.pyplot as plt\n",
    "%matplotlib inline\n",
    "\n",
    "from PIL import Image\n",
    "from scipy.io import loadmat\n",
    "\n",
    "import math\n"
   ]
  },
  {
   "cell_type": "code",
   "execution_count": 18,
   "metadata": {
    "collapsed": false
   },
   "outputs": [],
   "source": [
    "# data = np.loadtxt('MackeyGlass_t17.txt')"
   ]
  },
  {
   "cell_type": "code",
   "execution_count": 19,
   "metadata": {
    "collapsed": false
   },
   "outputs": [],
   "source": [
    "# Constants\n",
    "density = 1\n",
    "\n",
    "# generate the ESN reservoir\n",
    "inSize = outSize = 10\n",
    "resSize = 10 # reservoir size\n",
    "alpha = 1 # leaking rate\n",
    "\n",
    "random_state=42\n",
    "#random.seed(42)\n",
    "\n",
    "dataLen = 10000\n",
    "trainLen = 8000"
   ]
  },
  {
   "cell_type": "code",
   "execution_count": 20,
   "metadata": {
    "collapsed": false
   },
   "outputs": [],
   "source": [
    "#W = np.random.rand(10,10)-0.5 "
   ]
  },
  {
   "cell_type": "code",
   "execution_count": 21,
   "metadata": {
    "collapsed": true
   },
   "outputs": [],
   "source": [
    "# FIXME: move to sparse matrix\n",
    "def spectral_radius(matrix):\n",
    "    '''\n",
    "    Calculate spectral radius of matrix. \n",
    "    Spectral radius is max absolute eigenvalue.\n",
    "    '''\n",
    "    # FIXME: remove code below\n",
    "    inner = matrix\n",
    "    eigenvalues = np.linalg.eig(inner)[0]\n",
    "    return max(abs(eigenvalues))"
   ]
  },
  {
   "cell_type": "code",
   "execution_count": 22,
   "metadata": {
    "collapsed": false
   },
   "outputs": [],
   "source": [
    "def build_reservoir():\n",
    "    # FIXME: move to spartial\n",
    "    # include bias term\n",
    "    Win =  sparse.rand(resSize, inSize + 1, density=1, random_state=random_state)\n",
    "    Win -= (Win.sign()*0.5)\n",
    "    \n",
    "    W = sparse.rand(resSize, resSize, density=density, random_state=random_state)\n",
    "    W -= W.sign()*0.5\n",
    "    W *= 1.25/spectral_radius(W.toarray())\n",
    "    return (Win.toarray(), W.toarray())\n",
    "    #return (Win, W)"
   ]
  },
  {
   "cell_type": "code",
   "execution_count": 23,
   "metadata": {
    "collapsed": false
   },
   "outputs": [],
   "source": [
    "Win, W = build_reservoir()"
   ]
  },
  {
   "cell_type": "code",
   "execution_count": 24,
   "metadata": {
    "collapsed": false
   },
   "outputs": [],
   "source": [
    "my_data = np.genfromtxt('train.cv', delimiter=',')"
   ]
  },
  {
   "cell_type": "code",
   "execution_count": 25,
   "metadata": {
    "collapsed": false
   },
   "outputs": [
    {
     "name": "stdout",
     "output_type": "stream",
     "text": [
      "3.0\n"
     ]
    },
    {
     "data": {
      "text/plain": [
       "<matplotlib.image.AxesImage at 0x1767dd1d0>"
      ]
     },
     "execution_count": 25,
     "metadata": {},
     "output_type": "execute_result"
    },
    {
     "data": {
      "image/png": "[encoded data removed]",
      "text/plain": [
       "<matplotlib.figure.Figure at 0x154efd6a0>"
      ]
     },
     "metadata": {},
     "output_type": "display_data"
    }
   ],
   "source": [
    "row = 10\n",
    "num = my_data[row, :][0]\n",
    "pic=my_data[row, :][1:].reshape(28,28)\n",
    "print(num)\n",
    "plt.matshow(pic, cmap='Greys')"
   ]
  },
  {
   "cell_type": "code",
   "execution_count": 61,
   "metadata": {
    "collapsed": false
   },
   "outputs": [],
   "source": [
    "import scipy\n",
    "\n",
    "def scale(data, newSize=16):\n",
    "    examples, length = my_data.shape\n",
    "    newLength = newSize**2\n",
    "    newData = np.ndarray((examples, newLength))\n",
    "    oldSize = int(length**(0.5))\n",
    "    for row in range(examples):\n",
    "        pic=data[row, :][1:].reshape(oldSize,oldSize)\n",
    "        scaled = scipy.misc.imresize(pic, (newSize,newSize), interp='bicubic')\n",
    "        newData[row,:] = scaled.reshape(newLength)\n",
    "    return newData\n"
   ]
  },
  {
   "cell_type": "code",
   "execution_count": 65,
   "metadata": {
    "collapsed": false
   },
   "outputs": [
    {
     "data": {
      "text/plain": [
       "28"
      ]
     },
     "execution_count": 65,
     "metadata": {},
     "output_type": "execute_result"
    }
   ],
   "source": []
  },
  {
   "cell_type": "code",
   "execution_count": 60,
   "metadata": {
    "collapsed": false
   },
   "outputs": [
    {
     "data": {
      "text/plain": [
       "<matplotlib.image.AxesImage at 0x172ab7b00>"
      ]
     },
     "execution_count": 60,
     "metadata": {},
     "output_type": "execute_result"
    },
    {
     "data": {
      "image/png": "[encoded data removed]",
      "text/plain": [
       "<matplotlib.figure.Figure at 0x172500160>"
      ]
     },
     "metadata": {},
     "output_type": "display_data"
    }
   ],
   "source": [
    "plt.matshow(data[9,:].reshape(16,16), cmap='Greys')"
   ]
  },
  {
   "cell_type": "code",
   "execution_count": 12,
   "metadata": {
    "collapsed": false
   },
   "outputs": [
    {
     "data": {
      "text/plain": [
       "8816"
      ]
     },
     "execution_count": 12,
     "metadata": {},
     "output_type": "execute_result"
    }
   ],
   "source": [
    "def extract(row):\n",
    "    num = row[0]\n",
    "    pic = row[1:]\n",
    "    return (num, pic)\n",
    "\n",
    "def encode2vec(num):\n",
    "    converted = int(num) % 10\n",
    "    result = np.zeros((10,), dtype='int')\n",
    "    result[converted] = 1\n",
    "    return result\n",
    "\n",
    "def normalize_pixel(pixels):\n",
    "    return pixels/256\n",
    "\n",
    "Y = np.ndarray((8816,1), dtype='int')\n",
    "Y_t = np.ndarray((8816,10), dtype='int')\n",
    "U = np.ndarray((8816,784))\n",
    "counter = 0\n",
    "for i in range(1,42001):\n",
    "    num, pic = extract(my_data[i, :])\n",
    "    if int(num) not in [1,0]:\n",
    "        continue\n",
    "    Y[counter, :] = int(num)\n",
    "    U[counter, :] = normalize_pixel(pic)\n",
    "    counter +=1\n",
    "    \n",
    "X_train, X_test, y_train, y_test = train_test_split(U, Y, test_size=0.8, random_state=42)\n",
    "y_v_train = np.ndarray((y_train.shape[0], 10), dtype=int, buffer=np.array([encode2vec(y) for y in y_train]))\n",
    "y_v_test = np.ndarray((y_test.shape[0], 10), dtype=int, buffer=np.array([encode2vec(y) for y in y_test]))\n",
    "counter"
   ]
  },
  {
   "cell_type": "code",
   "execution_count": null,
   "metadata": {
    "collapsed": false
   },
   "outputs": [],
   "source": []
  },
  {
   "cell_type": "code",
   "execution_count": null,
   "metadata": {
    "collapsed": false
   },
   "outputs": [],
   "source": []
  },
  {
   "cell_type": "code",
   "execution_count": null,
   "metadata": {
    "collapsed": false
   },
   "outputs": [],
   "source": []
  },
  {
   "cell_type": "code",
   "execution_count": null,
   "metadata": {
    "collapsed": false
   },
   "outputs": [],
   "source": []
  },
  {
   "cell_type": "code",
   "execution_count": 13,
   "metadata": {
    "collapsed": true
   },
   "outputs": [],
   "source": [
    "# load the data\n",
    "trainLen = 2000\n",
    "testLen = 2000\n",
    "initLen = 0 # Practical ESN 4.5\n",
    "\n",
    "# generate the ESN reservoir\n",
    "sequenceLength=784\n",
    "inSize = 1\n",
    "outSize = 10\n",
    "resSize = 1000\n",
    "a = 0.1 # leaking rate"
   ]
  },
  {
   "cell_type": "code",
   "execution_count": 14,
   "metadata": {
    "collapsed": false
   },
   "outputs": [],
   "source": [
    "Win, W = build_reservoir()"
   ]
  },
  {
   "cell_type": "code",
   "execution_count": 61,
   "metadata": {
    "collapsed": false
   },
   "outputs": [],
   "source": [
    "# for i in range(0,10000):\n",
    "#     data[i] = abs(math.sin(math.log(1+i**(0.5))))\n",
    "# plt.plot(data[0:10000])"
   ]
  },
  {
   "cell_type": "code",
   "execution_count": 15,
   "metadata": {
    "collapsed": false
   },
   "outputs": [],
   "source": [
    "X_tr = X_train\n",
    "X_train = X_train[0: 100, :]\n",
    "X_ts = X_test\n",
    "X_test = X_test[0: 100, :]"
   ]
  },
  {
   "cell_type": "code",
   "execution_count": 16,
   "metadata": {
    "collapsed": false
   },
   "outputs": [
    {
     "name": "stdout",
     "output_type": "stream",
     "text": [
      "99\r"
     ]
    }
   ],
   "source": [
    "# Our time of interest is 784, when all pixels was read by reservoir \n",
    "examples, sequenceLength = X_train.shape\n",
    "\n",
    "#X = np.zeros((1+inSize+resSize,examples))\n",
    "X = np.zeros((examples, 1+resSize))\n",
    "# set the corresponding target matrix directly\n",
    "#Yt = data[None,initLen+1:trainLen+1] \n",
    "\n",
    "\n",
    "# run the reservoir with the data and collect X\n",
    "\n",
    "for e in range(examples):\n",
    "    picture = X_train[e]\n",
    "    # build reservoir for this example\n",
    "    x = np.zeros((resSize,1))\n",
    "    for pic in picture:\n",
    "        u = pic\n",
    "        x = (1-a)*x + a*np.tanh( np.dot( Win, np.vstack((1,u)) ) + np.dot( W, x ) )\n",
    "    X[e,:] = np.vstack((1,x))[:,0]\n",
    "    print(e, end='\\r')\n",
    "\n",
    "# for t in range(trainLen):\n",
    "#     u = data[t]\n",
    "#     x = (1-a)*x + a*np.tanh( np.dot( Win, np.vstack((1,u)) ) + np.dot( W, x ) )\n",
    "#     if t >= initLen:\n",
    "#         X[:,t-initLen] = np.vstack((1,u,x))[:,0]\n",
    "        \n",
    "# reg = 1e-1  # regularization coefficient\n",
    "# X_T = X.T\n",
    "# Wout = np.dot( np.dot(Yt,X_T), np.linalg.inv( np.dot(X,X_T) + \\\n",
    "#     reg*np.eye(1+inSize+resSize) ) ) \n",
    "\n",
    "\n",
    "# Y = np.zeros((outSize,testLen))\n",
    "# u = data[trainLen]\n",
    "# for t in range(testLen):\n",
    "#     x = (1-a)*x + a*np.tanh( np.dot( Win, np.vstack((1,u)) ) + np.dot( W, x ) )\n",
    "# #     x = np.tanh( np.dot( Win, np.vstack((1,u)) ) + np.dot( W, x ) )\n",
    "#     y = np.dot( Wout, np.vstack((1,u,x)) )\n",
    "#     Y[:,t] = y\n",
    "#     # generative mode:\n",
    "#     u = y\n",
    "#     ## this would be a predictive mode:\n",
    "#     #u = data[trainLen+t+1] \n",
    "    \n",
    "# errorLen = 1000\n",
    "# mse = np.sum( np.square( data[trainLen+1:trainLen+errorLen+1] - Y[0,0:errorLen] ) ) / errorLen\n",
    "# print('MSE = ' + str( mse ))\n",
    "\n",
    "\n",
    "# plt.figure(1).clear()\n",
    "# plt.plot( data[trainLen+1:trainLen+testLen+1], 'g' )\n",
    "# plt.plot( Y.T, 'b' )\n",
    "# plt.title('Target and generated signals $y(n)$ starting at $n=0$')\n",
    "# plt.legend(['Target signal', 'Free-running predicted signal'])\n",
    "\n",
    "\n",
    "# plt.figure(2).clear()\n",
    "# plt.plot( X[0:20,0:200].T )\n",
    "# plt.title('Some reservoir activations $\\mathbf{x}(n)$')"
   ]
  },
  {
   "cell_type": "code",
   "execution_count": 111,
   "metadata": {
    "collapsed": false
   },
   "outputs": [],
   "source": [
    "reg = 1e-6  # regularization coefficient\n",
    "X_T = X.T\n",
    "Yt = y_v_train[0:100]"
   ]
  },
  {
   "cell_type": "code",
   "execution_count": 112,
   "metadata": {
    "collapsed": false
   },
   "outputs": [],
   "source": [
    "Wout = np.dot( np.dot(Yt.T,X), np.linalg.inv( np.dot(X_T,X) + \\\n",
    "    reg*np.eye(1+resSize) ) ) "
   ]
  },
  {
   "cell_type": "code",
   "execution_count": 118,
   "metadata": {
    "collapsed": false
   },
   "outputs": [
    {
     "name": "stdout",
     "output_type": "stream",
     "text": [
      "99\r"
     ]
    }
   ],
   "source": [
    "# Our time of interest is 784, when all pixels was read by reservoir \n",
    "examples, sequenceLength = X_test.shape\n",
    "\n",
    "\n",
    "# run the reservoir with the data and collect X\n",
    "predicts = []\n",
    "for e in range(examples):\n",
    "    picture = X_test[e]\n",
    "        # build reservoir for this example\n",
    "    x = np.zeros((resSize,1))\n",
    "    for pic in picture:\n",
    "        u = pic\n",
    "        x = (1-a)*x + a*np.tanh( np.dot( Win, np.vstack((1,u)) ) + np.dot( W, x ) )\n",
    "    y = np.dot( Wout, np.vstack((1,x)) )\n",
    "    predicts.append(y)\n",
    "    print(e, end='\\r')\n"
   ]
  },
  {
   "cell_type": "code",
   "execution_count": 114,
   "metadata": {
    "collapsed": false
   },
   "outputs": [
    {
     "data": {
      "text/plain": [
       "array([1, 1, 1, 0, 0, 1, 0, 0, 1, 1, 1, 1, 1, 0, 1, 1, 0, 1, 1, 1, 1, 0, 0,\n",
       "       1, 0, 1, 0, 1, 0, 0, 0, 0, 0, 1, 1, 0, 0, 0, 0, 1, 0, 0, 0, 1, 1, 0,\n",
       "       1, 1, 0, 1, 0, 0, 0, 1, 0, 0, 0, 1, 1, 1, 0, 0, 0, 1, 1, 1, 1, 0, 0,\n",
       "       1, 0, 1, 1, 0, 0, 1, 0, 0, 1, 1, 1, 1, 0, 0, 1, 1, 1, 1, 0, 0, 0, 0,\n",
       "       1, 0, 0, 1, 1, 1, 1, 1])"
      ]
     },
     "execution_count": 114,
     "metadata": {},
     "output_type": "execute_result"
    }
   ],
   "source": [
    "y_test[0:100,0]"
   ]
  },
  {
   "cell_type": "code",
   "execution_count": 123,
   "metadata": {
    "collapsed": false
   },
   "outputs": [
    {
     "data": {
      "text/plain": [
       "array([1, 1, 1, 0, 0, 1, 0, 0, 1, 1, 1, 1, 1, 0, 1, 1, 1, 1, 1, 1, 1, 1, 0,\n",
       "       1, 0, 1, 0, 1, 0, 0, 0, 0, 0, 1, 1, 0, 0, 0, 0, 1, 0, 0, 0, 1, 1, 0,\n",
       "       1, 1, 1, 1, 0, 0, 0, 1, 0, 0, 0, 1, 1, 1, 0, 0, 0, 1, 1, 1, 1, 0, 0,\n",
       "       1, 0, 1, 1, 0, 0, 1, 0, 0, 1, 1, 1, 1, 0, 0, 1, 1, 1, 1, 0, 0, 0, 0,\n",
       "       1, 0, 0, 1, 1, 1, 1, 1])"
      ]
     },
     "execution_count": 123,
     "metadata": {},
     "output_type": "execute_result"
    }
   ],
   "source": [
    "np.array([np.argmax(predict) for predict in predicts])"
   ]
  },
  {
   "cell_type": "code",
   "execution_count": 2,
   "metadata": {
    "collapsed": false
   },
   "outputs": [
    {
     "ename": "NameError",
     "evalue": "name 'X_train' is not defined",
     "output_type": "error",
     "traceback": [
      "\u001b[0;31m---------------------------------------------------------------------------\u001b[0m",
      "\u001b[0;31mNameError\u001b[0m                                 Traceback (most recent call last)",
      "\u001b[0;32m<ipython-input-2-71101e5afcb4>\u001b[0m in \u001b[0;36m<module>\u001b[0;34m()\u001b[0m\n\u001b[0;32m----> 1\u001b[0;31m \u001b[0mX_train\u001b[0m\u001b[0;34m\u001b[0m\u001b[0m\n\u001b[0m",
      "\u001b[0;31mNameError\u001b[0m: name 'X_train' is not defined"
     ]
    }
   ],
   "source": [
    "X_train"
   ]
  },
  {
   "cell_type": "code",
   "execution_count": null,
   "metadata": {
    "collapsed": true
   },
   "outputs": [],
   "source": []
  },
  {
   "cell_type": "code",
   "execution_count": null,
   "metadata": {
    "collapsed": true
   },
   "outputs": [],
   "source": []
  }
 ],
 "metadata": {
  "kernelspec": {
   "display_name": "Python 3",
   "language": "python",
   "name": "python3"
  },
  "language_info": {
   "codemirror_mode": {
    "name": "ipython",
    "version": 3
   },
   "file_extension": ".py",
   "mimetype": "text/x-python",
   "name": "python",
   "nbconvert_exporter": "python",
   "pygments_lexer": "ipython3",
   "version": "3.6.0"
  }
 },
 "nbformat": 4,
 "nbformat_minor": 2
}
