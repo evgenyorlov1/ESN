{
 "cells": [
  {
   "cell_type": "code",
   "execution_count": 82,
   "metadata": {
    "collapsed": false
   },
   "outputs": [
    {
     "name": "stdout",
     "output_type": "stream",
     "text": [
      "Overwriting esn_classifier.py\n"
     ]
    }
   ],
   "source": [
    "%%file esn_classifier.py\n",
    "from sklearn.base import BaseEstimator, ClassifierMixin\n",
    "import numpy as np\n",
    "import scipy.sparse as sparse\n",
    "\n",
    "class EsnClassifier(BaseEstimator, ClassifierMixin):\n",
    "    \"\"\"Echo state network classifier\"\"\"\n",
    "    def __init__(self, \\\n",
    "                 density=1, reservoirSize=100, outputleakingRate=1, \\\n",
    "                 inputSize=1, outputSize=1, leakingRate = 1, \\\n",
    "                 randomState=None, regularizationCoefficient=10e-6,\n",
    "                 alpha=None):\n",
    "        \"\"\"\n",
    "        Called when initializing the classifier\n",
    "        \"\"\"\n",
    "        self.density = density\n",
    "        self.reservoirSize = reservoirSize\n",
    "        self.leakingRate = leakingRate\n",
    "        self.randomState = randomState\n",
    "        self.outputSize = outputSize\n",
    "        self.inputSize = inputSize\n",
    "        self.alpha = alpha\n",
    "        self.regularizationCoefficient = regularizationCoefficient\n",
    "    \n",
    "    def fit(self, X, y=None):\n",
    "        \"\"\"\n",
    "        \"\"\"\n",
    "        # FIXME: add Asserts or try/catch\n",
    "        \n",
    "        examples, sequenceLength = X.shape\n",
    "        self.Win_, self.W_ = self.build_reservoirs()\n",
    "    \n",
    "        bias = np.ones((1, examples))\n",
    "        \n",
    "        # run the reservoir with the data and collect X\n",
    "        x = np.zeros((self.reservoirSize,examples))\n",
    "        for pic in range(sequenceLength):\n",
    "            u = X[:, pic]\n",
    "            x = (1-self.leakingRate)*x + self.leakingRate*np.tanh( np.dot( self.Win_, np.vstack((bias,u)) ) + np.dot( self.W_, x ) )\n",
    "            print(pic, end=\"\\r\")\n",
    "        \n",
    "        # Reservoir values\n",
    "        self.X = np.vstack((bias,x))\n",
    "        self.y = y\n",
    "        # Fit linear regression\n",
    "        self.refit(self.regularizationCoefficient)\n",
    "        return self\n",
    "    \n",
    "    def refit(self, regularizationCoefficient):\n",
    "        \"\"\"\n",
    "        Fit regression with parameter regularizationCoefficient\n",
    "        \"\"\"\n",
    "        self.Wout_ = np.dot( np.dot(self.y.T,self.X.T), np.linalg.inv( np.dot(self.X,self.X.T) + \\\n",
    "            regularizationCoefficient*np.eye(1+self.reservoirSize) ) ) \n",
    "        return self\n",
    "    \n",
    "    def predict(self, X, y=None):\n",
    "        '''\n",
    "        '''\n",
    "        examples, sequenceLength = X.shape\n",
    "        x = np.zeros((self.reservoirSize,examples))\n",
    "        bias = np.ones((1, examples))\n",
    "        for pix in range(sequenceLength):\n",
    "            u = X[:, pix]\n",
    "            x = (1-self.leakingRate)*x + self.leakingRate*np.tanh( np.dot( self.Win_, np.vstack((bias,u)) ) + np.dot( self.W_, x ) )\n",
    "            print(pix, end=\"\\r\")\n",
    "            \n",
    "        y = np.dot( self.Wout_, np.vstack((bias,x)) ).T \n",
    "        return np.array(np.argmax(y, axis=1))\n",
    "    \n",
    "    \n",
    "    # Helpers to build reservoir\n",
    "    def __spectral_radius(self, matrix):\n",
    "        '''\n",
    "        Calculate spectral radius of matrix. \n",
    "        Spectral radius is max absolute eigenvalue.\n",
    "        '''\n",
    "        # FIXME: remove code below\n",
    "        inner = matrix\n",
    "        eigenvalues = np.linalg.eig(inner)[0]\n",
    "        return max(abs(eigenvalues))\n",
    "    \n",
    "    def build_reservoirs(self):\n",
    "        '''\n",
    "        Generate reservoirs\n",
    "        '''\n",
    "        # FIXME: move to spartial\n",
    "        \n",
    "        # include bias term\n",
    "        if self.alpha is None:\n",
    "            Win =  sparse.rand(self.reservoirSize, self.inputSize + 1, density=self.density, random_state=self.randomState)\n",
    "            Win -= (Win.sign()*0.5)\n",
    "            Win = Win.toarray()\n",
    "        else:\n",
    "            Win = np.ones((self.reservoirSize, self.inputSize + 1)) * self.alpha\n",
    "\n",
    "        W = sparse.rand(self.reservoirSize, self.reservoirSize, density=self.density, random_state=self.randomState)\n",
    "        W -= W.sign()*0.5\n",
    "        W *= 1.25/self.__spectral_radius(W.toarray())\n",
    "        return (Win, W.toarray())"
   ]
  },
  {
   "cell_type": "code",
   "execution_count": 83,
   "metadata": {
    "collapsed": false
   },
   "outputs": [
    {
     "name": "stdout",
     "output_type": "stream",
     "text": [
      "The autoreload extension is already loaded. To reload it, use:\n",
      "  %reload_ext autoreload\n"
     ]
    }
   ],
   "source": [
    "from esn_classifier import EsnClassifier\n",
    "%load_ext autoreload\n",
    "%autoreload 2\n",
    "\n",
    "import numpy as np\n",
    "import pandas as pd\n",
    "import scipy.sparse as sparse\n",
    "\n",
    "from sklearn import preprocessing\n",
    "from sklearn.model_selection import train_test_split\n",
    "from sklearn import metrics\n",
    "\n",
    "import matplotlib.pyplot as plt\n",
    "%matplotlib inline\n",
    "\n",
    "from PIL import Image\n",
    "from scipy.io import loadmat\n",
    "\n",
    "import math\n",
    "import time\n"
   ]
  },
  {
   "cell_type": "code",
   "execution_count": 63,
   "metadata": {
    "collapsed": false
   },
   "outputs": [],
   "source": [
    "my_data = np.genfromtxt('train.cv', delimiter=',')\n",
    "\n",
    "def extract(row):\n",
    "    num = row[0]\n",
    "    pic = row[1:]\n",
    "    return (num, pic)\n",
    "\n",
    "def encode2vec(num):\n",
    "    converted = int(num) % 10\n",
    "    result = np.zeros((10,), dtype='int')\n",
    "    result[converted] = 1\n",
    "    return result\n",
    "\n",
    "def normalize_pixel(pixels):\n",
    "    return pixels/256\n",
    "\n",
    "Y = np.ndarray((42000,1), dtype='int')\n",
    "Y_t = np.ndarray((42000,10), dtype='int')\n",
    "U = np.ndarray((42000,784))\n",
    "\n",
    "for i in range(1,42001):\n",
    "    num, pic = extract(my_data[i, :])\n",
    "    Y[i-1, :] = num\n",
    "    U[i-1, :] = normalize_pixel(pic)\n",
    "    \n",
    "X_train, X_test, y_train, y_test = train_test_split(U, Y, test_size=0.2, random_state=42, stratify=Y)\n",
    "y_v_train = np.ndarray((y_train.shape[0], 10), dtype=int, buffer=np.array([encode2vec(y) for y in y_train]))\n",
    "y_v_test = np.ndarray((y_test.shape[0], 10), dtype=int, buffer=np.array([encode2vec(y) for y in y_test]))"
   ]
  },
  {
   "cell_type": "code",
   "execution_count": null,
   "metadata": {
    "collapsed": true
   },
   "outputs": [],
   "source": []
  },
  {
   "cell_type": "code",
   "execution_count": 70,
   "metadata": {
    "collapsed": false
   },
   "outputs": [
    {
     "name": "stdout",
     "output_type": "stream",
     "text": [
      "Accuracy: 12.000000%r size 10 for a 0.100000. 0\n",
      "Accuracy: 18.000000%r size 10 for a 0.200000. 0\n",
      "Accuracy: 12.000000%r size 10 for a 0.300000. 0\n",
      "Accuracy: 12.000000%r size 10 for a 0.400000. 0\n",
      "Accuracy: 12.000000%r size 10 for a 0.500000. 0\n",
      "Accuracy: 18.000000%r size 10 for a 0.600000. 0\n",
      "Accuracy: 12.000000%r size 10 for a 0.700000. 0\n",
      "Accuracy: 12.000000%r size 10 for a 0.800000. 0\n",
      "Accuracy: 12.000000%r size 10 for a 0.900000. 0\n",
      "Accuracy: 20.000000%r size 25 for a 0.100000. 0\n",
      "Accuracy: 13.000000%r size 25 for a 0.200000. 0\n",
      "Accuracy: 27.000000%r size 25 for a 0.300000. 0\n",
      "Accuracy: 18.000000%r size 25 for a 0.400000. 0\n",
      "Accuracy: 23.000000%r size 25 for a 0.500000. 0\n",
      "Accuracy: 12.000000%r size 25 for a 0.600000. 0\n",
      "Accuracy: 12.000000%r size 25 for a 0.700000. 0\n",
      "Accuracy: 12.000000%r size 25 for a 0.800000. 0\n",
      "Accuracy: 12.000000%r size 25 for a 0.900000. 0\n",
      "Accuracy: 35.000000%r size 50 for a 0.100000. 0\n",
      "Accuracy: 15.000000%r size 50 for a 0.200000. 0\n",
      "Accuracy: 25.000000%r size 50 for a 0.300000. 0\n",
      "Accuracy: 16.000000%r size 50 for a 0.400000. 0\n",
      "Accuracy: 12.000000%r size 50 for a 0.500000. 0\n",
      "Accuracy: 17.000000%r size 50 for a 0.600000. 0\n",
      "Accuracy: 13.000000%r size 50 for a 0.700000. 0\n",
      "Accuracy: 12.000000%r size 50 for a 0.800000. 0\n",
      "Accuracy: 12.000000%r size 50 for a 0.900000. 0\n",
      "Accuracy: 30.000000%r size 100 for a 0.100000. 0\n",
      "Accuracy: 22.000000%r size 100 for a 0.200000. 0\n",
      "Accuracy: 26.000000%r size 100 for a 0.300000. 0\n",
      "Accuracy: 26.000000%r size 100 for a 0.400000. 0\n",
      "Accuracy: 12.000000%r size 100 for a 0.500000. 0\n",
      "Accuracy: 14.000000%r size 100 for a 0.600000. 0\n",
      "Accuracy: 12.000000%r size 100 for a 0.700000. 0\n",
      "Accuracy: 12.000000%r size 100 for a 0.800000. 0\n",
      "Accuracy: 12.000000%r size 100 for a 0.900000. 0\n",
      "Accuracy: 15.000000%r size 250 for a 0.100000. 0\n",
      "Accuracy: 33.000000%r size 250 for a 0.200000. 0\n",
      "Accuracy: 18.000000%r size 250 for a 0.300000. 0\n",
      "Accuracy: 17.000000%r size 250 for a 0.400000. 0\n",
      "Accuracy: 18.000000%r size 250 for a 0.500000. 0\n",
      "Accuracy: 14.000000%r size 250 for a 0.600000. 0\n",
      "Accuracy: 12.000000%r size 250 for a 0.700000. 0\n",
      "Accuracy: 16.000000%r size 250 for a 0.800000. 0\n",
      "Accuracy: 12.000000%r size 250 for a 0.900000. 0\n"
     ]
    }
   ],
   "source": [
    "def process(n, alpha, regulizations):\n",
    "    print(\"Processing reservouir size %d for a %f. \" %(n, alpha), end=\"\")\n",
    "    clf = EsnClassifier(reservoirSize=n, \n",
    "                        outputSize=10,\n",
    "                        regularizationCoefficient=regulizations[0],\n",
    "                        alpha=alpha)\n",
    "    start = time.time()\n",
    "    clf.fit(X_train, y_v_train)\n",
    "    endFit = time.time()\n",
    "    time2fit = endFit - start\n",
    "    predicted = clf.predict(X_test)\n",
    "    endPredict = time.time()\n",
    "    time2predict = endPredict - endFit \n",
    "    acc = { regulizations[0]: metrics.accuracy_score(y_test, predicted)}\n",
    "    for r in regulizations[1:]:\n",
    "        clf.refit(r)\n",
    "        predicted = clf.predict(X_test)\n",
    "        acc[r] = metrics.accuracy_score(y_test, predicted)\n",
    "    print(\"Accuracy: %f%%\"% round(max(acc.values()) * 100))\n",
    "    return (acc, (time2fit, time2predict))\n",
    "\n",
    "resultsAccuracy = {}\n",
    "resultsTime = {}\n",
    "for n in [10, 25, 50, 100, 250]:\n",
    "    resultsAccuracy[n] = {}\n",
    "    resultsTime[n] = {}\n",
    "    for a in range(1,10):\n",
    "        alpha = a / 10.0\n",
    "        resultsAccuracy[n][a] = {}\n",
    "        resultsTime[n][a] = {}\n",
    "        acc, t = process(n, alpha, [10e-4, 10e-6])\n",
    "        resultsAccuracy[n][a] = acc\n",
    "        resultsTime[n][a] = t"
   ]
  },
  {
   "cell_type": "code",
   "execution_count": 78,
   "metadata": {
    "collapsed": false
   },
   "outputs": [
    {
     "name": "stdout",
     "output_type": "stream",
     "text": [
      "Accuracy: 18.000000%r size 250 for a 0.200000. 0\n"
     ]
    },
    {
     "data": {
      "text/plain": [
       "({0.001: 0.1819047619047619}, (515.816437959671, 134.00792598724365))"
      ]
     },
     "execution_count": 78,
     "metadata": {},
     "output_type": "execute_result"
    }
   ],
   "source": [
    "process(250, 0.2, [10e-4])"
   ]
  },
  {
   "cell_type": "code",
   "execution_count": 84,
   "metadata": {
    "collapsed": false
   },
   "outputs": [],
   "source": [
    "clf = EsnClassifier(reservoirSize=250, \n",
    "                        outputSize=10,\n",
    "                        regularizationCoefficient=10e4,\n",
    "                        alpha=0.2)"
   ]
  },
  {
   "cell_type": "code",
   "execution_count": 85,
   "metadata": {
    "collapsed": false
   },
   "outputs": [
    {
     "name": "stdout",
     "output_type": "stream",
     "text": [
      "783\r"
     ]
    },
    {
     "data": {
      "text/plain": [
       "EsnClassifier(alpha=0.2, density=1, inputSize=1, leakingRate=1, outputSize=10,\n",
       "       outputleakingRate=None, randomState=None,\n",
       "       regularizationCoefficient=100000.0, reservoirSize=250)"
      ]
     },
     "execution_count": 85,
     "metadata": {},
     "output_type": "execute_result"
    }
   ],
   "source": [
    "clf.fit(X_train, y_v_train)"
   ]
  },
  {
   "cell_type": "code",
   "execution_count": 106,
   "metadata": {
    "collapsed": false
   },
   "outputs": [],
   "source": [
    "yVal = clf.y.argmax(axis=1)"
   ]
  },
  {
   "cell_type": "code",
   "execution_count": 107,
   "metadata": {
    "collapsed": false
   },
   "outputs": [
    {
     "data": {
      "text/plain": [
       "251"
      ]
     },
     "execution_count": 107,
     "metadata": {},
     "output_type": "execute_result"
    }
   ],
   "source": [
    "clf.X.shape[0]"
   ]
  },
  {
   "cell_type": "code",
   "execution_count": 123,
   "metadata": {
    "collapsed": false
   },
   "outputs": [],
   "source": [
    "centers = np.zeros((10, 251))\n",
    "centersCount = np.zeros((10, 251))"
   ]
  },
  {
   "cell_type": "code",
   "execution_count": 124,
   "metadata": {
    "collapsed": false
   },
   "outputs": [],
   "source": [
    "for r in range(clf.X.shape[1]):\n",
    "    row = clf.X[:, r]\n",
    "    classs = yVal[r]\n",
    "    centers[classs, :] = centers[classs, :] + row\n",
    "    centersCount[classs] += 1"
   ]
  },
  {
   "cell_type": "code",
   "execution_count": 125,
   "metadata": {
    "collapsed": false
   },
   "outputs": [
    {
     "data": {
      "text/plain": [
       "array([[ 1.        ,  0.33855048,  0.51380293, ...,  0.63666359,\n",
       "        -0.75522815,  0.34212203],\n",
       "       [ 1.        ,  0.33891353,  0.5136968 , ...,  0.63655749,\n",
       "        -0.7552672 ,  0.34201603],\n",
       "       [ 1.        ,  0.33925679,  0.51362768, ...,  0.63664059,\n",
       "        -0.75530024,  0.34190409],\n",
       "       ..., \n",
       "       [ 1.        ,  0.33512948,  0.51308757, ...,  0.63992878,\n",
       "        -0.7524992 ,  0.34394097],\n",
       "       [ 1.        ,  0.33876968,  0.51341616, ...,  0.63721199,\n",
       "        -0.75526177,  0.34220059],\n",
       "       [ 1.        ,  0.34003165,  0.51362339, ...,  0.63671153,\n",
       "        -0.75509789,  0.34196515]])"
      ]
     },
     "execution_count": 125,
     "metadata": {},
     "output_type": "execute_result"
    }
   ],
   "source": [
    "np.divide(centers, centersCount)"
   ]
  },
  {
   "cell_type": "code",
   "execution_count": 195,
   "metadata": {
    "collapsed": true
   },
   "outputs": [],
   "source": []
  },
  {
   "cell_type": "code",
   "execution_count": 127,
   "metadata": {
    "collapsed": false
   },
   "outputs": [],
   "source": [
    "centerOfMasses = centerOfMass(clf.X, clf.y)"
   ]
  },
  {
   "cell_type": "code",
   "execution_count": 197,
   "metadata": {
    "collapsed": false
   },
   "outputs": [
    {
     "data": {
      "text/plain": [
       "0.0060281828052843583"
      ]
     },
     "execution_count": 197,
     "metadata": {},
     "output_type": "execute_result"
    }
   ],
   "source": [
    "t = centerOfMasses[0] - centerOfMasses[1]\n",
    "np.dot(t.T, t)"
   ]
  },
  {
   "cell_type": "code",
   "execution_count": 144,
   "metadata": {
    "collapsed": true
   },
   "outputs": [],
   "source": []
  },
  {
   "cell_type": "code",
   "execution_count": 145,
   "metadata": {
    "collapsed": false
   },
   "outputs": [
    {
     "data": {
      "text/plain": [
       "2.0932008533152846"
      ]
     },
     "execution_count": 145,
     "metadata": {},
     "output_type": "execute_result"
    }
   ],
   "source": [
    "avgDistance(centerOfMasses)"
   ]
  },
  {
   "cell_type": "code",
   "execution_count": 198,
   "metadata": {
    "collapsed": false
   },
   "outputs": [],
   "source": []
  },
  {
   "cell_type": "code",
   "execution_count": 199,
   "metadata": {
    "collapsed": false
   },
   "outputs": [
    {
     "name": "stdout",
     "output_type": "stream",
     "text": [
      "1.1573242238\n",
      "CPU times: user 951 ms, sys: 17 ms, total: 968 ms\n",
      "Wall time: 968 ms\n"
     ]
    }
   ],
   "source": [
    "%%time\n",
    "t = variance(clf.X, clf.y)\n",
    "print(t)"
   ]
  },
  {
   "cell_type": "code",
   "execution_count": 181,
   "metadata": {
    "collapsed": false
   },
   "outputs": [
    {
     "data": {
      "text/plain": [
       "0.64875304019948166"
      ]
     },
     "execution_count": 181,
     "metadata": {},
     "output_type": "execute_result"
    }
   ],
   "source": [
    "np.sqrt(np.dot(temp.T, temp))"
   ]
  },
  {
   "cell_type": "code",
   "execution_count": 182,
   "metadata": {
    "collapsed": false
   },
   "outputs": [
    {
     "data": {
      "text/plain": [
       "312318.0"
      ]
     },
     "execution_count": 182,
     "metadata": {},
     "output_type": "execute_result"
    }
   ],
   "source": [
    "centersCount[exampleClass][0]"
   ]
  },
  {
   "cell_type": "code",
   "execution_count": 414,
   "metadata": {
    "collapsed": false
   },
   "outputs": [],
   "source": []
  },
  {
   "cell_type": "code",
   "execution_count": 415,
   "metadata": {
    "collapsed": false
   },
   "outputs": [
    {
     "data": {
      "text/plain": [
       "0.011008496340842272"
      ]
     },
     "execution_count": 415,
     "metadata": {},
     "output_type": "execute_result"
    }
   ],
   "source": []
  },
  {
   "cell_type": "code",
   "execution_count": 412,
   "metadata": {
    "collapsed": false
   },
   "outputs": [],
   "source": [
    "A = np.array([[1,50,2,1.4],[2,51,3,1.2]])\n",
    "b = np.array([[1, 0],[0, 1], [1, 0], [1,0]])\n",
    "_, classesSize = b.shape\n",
    "centers, classCount = centerOfMass(A, b, classesSize)\n",
    "centersOfMasses = np.divide(centers, classCount)\n",
    "dist = avgDistance(centersOfMasses, classesSize)\n",
    "var = variance(A, b, centers, classCount, centersOfMasses, classesSize)"
   ]
  },
  {
   "cell_type": "code",
   "execution_count": 413,
   "metadata": {
    "collapsed": false
   },
   "outputs": [
    {
     "data": {
      "text/plain": [
       "24.568632472745261"
      ]
     },
     "execution_count": 413,
     "metadata": {},
     "output_type": "execute_result"
    }
   ],
   "source": [
    "separation(A, b)"
   ]
  },
  {
   "cell_type": "code",
   "execution_count": 350,
   "metadata": {
    "collapsed": false
   },
   "outputs": [
    {
     "data": {
      "text/plain": [
       "array([[  1.,   2.],\n",
       "       [ 50.,  51.]])"
      ]
     },
     "execution_count": 350,
     "metadata": {},
     "output_type": "execute_result"
    }
   ],
   "source": [
    "centersOfMasses"
   ]
  },
  {
   "cell_type": "code",
   "execution_count": 298,
   "metadata": {
    "collapsed": false
   },
   "outputs": [
    {
     "data": {
      "text/plain": [
       "array([0, 2])"
      ]
     },
     "execution_count": 298,
     "metadata": {},
     "output_type": "execute_result"
    }
   ],
   "source": [
    "b.argmax(axis=1)"
   ]
  },
  {
   "cell_type": "code",
   "execution_count": 331,
   "metadata": {
    "collapsed": false
   },
   "outputs": [
    {
     "ename": "TypeError",
     "evalue": "an integer is required",
     "output_type": "error",
     "traceback": [
      "\u001b[0;31m---------------------------------------------------------------------------\u001b[0m",
      "\u001b[0;31mTypeError\u001b[0m                                 Traceback (most recent call last)",
      "\u001b[0;32m<ipython-input-331-5ce04b330adc>\u001b[0m in \u001b[0;36m<module>\u001b[0;34m()\u001b[0m\n\u001b[0;32m----> 1\u001b[0;31m \u001b[0mnp\u001b[0m\u001b[0;34m.\u001b[0m\u001b[0mall\u001b[0m\u001b[0;34m(\u001b[0m\u001b[0mclassCount\u001b[0m\u001b[0;34m[\u001b[0m\u001b[0;36m0\u001b[0m\u001b[0;34m]\u001b[0m\u001b[0;34m,\u001b[0m \u001b[0mr\u001b[0m \u001b[0;34m==\u001b[0m \u001b[0;36m0\u001b[0m\u001b[0;34m)\u001b[0m\u001b[0;34m\u001b[0m\u001b[0m\n\u001b[0m",
      "\u001b[0;32m/Users/ozeron/.virtualenvs/ml/lib/python3.6/site-packages/numpy/core/fromnumeric.py\u001b[0m in \u001b[0;36mall\u001b[0;34m(a, axis, out, keepdims)\u001b[0m\n\u001b[1;32m   2028\u001b[0m     \u001b[0;32mif\u001b[0m \u001b[0mkeepdims\u001b[0m \u001b[0;32mis\u001b[0m \u001b[0;32mnot\u001b[0m \u001b[0mnp\u001b[0m\u001b[0;34m.\u001b[0m\u001b[0m_NoValue\u001b[0m\u001b[0;34m:\u001b[0m\u001b[0;34m\u001b[0m\u001b[0m\n\u001b[1;32m   2029\u001b[0m         \u001b[0mkwargs\u001b[0m\u001b[0;34m[\u001b[0m\u001b[0;34m'keepdims'\u001b[0m\u001b[0;34m]\u001b[0m \u001b[0;34m=\u001b[0m \u001b[0mkeepdims\u001b[0m\u001b[0;34m\u001b[0m\u001b[0m\n\u001b[0;32m-> 2030\u001b[0;31m     \u001b[0;32mreturn\u001b[0m \u001b[0marr\u001b[0m\u001b[0;34m.\u001b[0m\u001b[0mall\u001b[0m\u001b[0;34m(\u001b[0m\u001b[0maxis\u001b[0m\u001b[0;34m=\u001b[0m\u001b[0maxis\u001b[0m\u001b[0;34m,\u001b[0m \u001b[0mout\u001b[0m\u001b[0;34m=\u001b[0m\u001b[0mout\u001b[0m\u001b[0;34m,\u001b[0m \u001b[0;34m**\u001b[0m\u001b[0mkwargs\u001b[0m\u001b[0;34m)\u001b[0m\u001b[0;34m\u001b[0m\u001b[0m\n\u001b[0m\u001b[1;32m   2031\u001b[0m \u001b[0;34m\u001b[0m\u001b[0m\n\u001b[1;32m   2032\u001b[0m \u001b[0;34m\u001b[0m\u001b[0m\n",
      "\u001b[0;32m/Users/ozeron/.virtualenvs/ml/lib/python3.6/site-packages/numpy/core/_methods.py\u001b[0m in \u001b[0;36m_all\u001b[0;34m(a, axis, dtype, out, keepdims)\u001b[0m\n\u001b[1;32m     39\u001b[0m \u001b[0;34m\u001b[0m\u001b[0m\n\u001b[1;32m     40\u001b[0m \u001b[0;32mdef\u001b[0m \u001b[0m_all\u001b[0m\u001b[0;34m(\u001b[0m\u001b[0ma\u001b[0m\u001b[0;34m,\u001b[0m \u001b[0maxis\u001b[0m\u001b[0;34m=\u001b[0m\u001b[0;32mNone\u001b[0m\u001b[0;34m,\u001b[0m \u001b[0mdtype\u001b[0m\u001b[0;34m=\u001b[0m\u001b[0;32mNone\u001b[0m\u001b[0;34m,\u001b[0m \u001b[0mout\u001b[0m\u001b[0;34m=\u001b[0m\u001b[0;32mNone\u001b[0m\u001b[0;34m,\u001b[0m \u001b[0mkeepdims\u001b[0m\u001b[0;34m=\u001b[0m\u001b[0;32mFalse\u001b[0m\u001b[0;34m)\u001b[0m\u001b[0;34m:\u001b[0m\u001b[0;34m\u001b[0m\u001b[0m\n\u001b[0;32m---> 41\u001b[0;31m     \u001b[0;32mreturn\u001b[0m \u001b[0mumr_all\u001b[0m\u001b[0;34m(\u001b[0m\u001b[0ma\u001b[0m\u001b[0;34m,\u001b[0m \u001b[0maxis\u001b[0m\u001b[0;34m,\u001b[0m \u001b[0mdtype\u001b[0m\u001b[0;34m,\u001b[0m \u001b[0mout\u001b[0m\u001b[0;34m,\u001b[0m \u001b[0mkeepdims\u001b[0m\u001b[0;34m)\u001b[0m\u001b[0;34m\u001b[0m\u001b[0m\n\u001b[0m\u001b[1;32m     42\u001b[0m \u001b[0;34m\u001b[0m\u001b[0m\n\u001b[1;32m     43\u001b[0m \u001b[0;32mdef\u001b[0m \u001b[0m_count_reduce_items\u001b[0m\u001b[0;34m(\u001b[0m\u001b[0marr\u001b[0m\u001b[0;34m,\u001b[0m \u001b[0maxis\u001b[0m\u001b[0;34m)\u001b[0m\u001b[0;34m:\u001b[0m\u001b[0;34m\u001b[0m\u001b[0m\n",
      "\u001b[0;31mTypeError\u001b[0m: an integer is required"
     ]
    }
   ],
   "source": [
    "np.all(classCount[0], r < 0)"
   ]
  },
  {
   "cell_type": "code",
   "execution_count": 324,
   "metadata": {
    "collapsed": false
   },
   "outputs": [
    {
     "data": {
      "text/plain": [
       "array([[  1.,  50.],\n",
       "       [  0.,   0.],\n",
       "       [  2.,  51.]])"
      ]
     },
     "execution_count": 324,
     "metadata": {},
     "output_type": "execute_result"
    }
   ],
   "source": [
    "centers"
   ]
  },
  {
   "cell_type": "code",
   "execution_count": null,
   "metadata": {
    "collapsed": true
   },
   "outputs": [],
   "source": []
  }
 ],
 "metadata": {
  "kernelspec": {
   "display_name": "Python 2",
   "language": "python",
   "name": "python2"
  },
  "language_info": {
   "codemirror_mode": {
    "name": "ipython",
    "version": 2
   },
   "file_extension": ".py",
   "mimetype": "text/x-python",
   "name": "python",
   "nbconvert_exporter": "python",
   "pygments_lexer": "ipython2",
   "version": "2.7.12"
  }
 },
 "nbformat": 4,
 "nbformat_minor": 2
}
