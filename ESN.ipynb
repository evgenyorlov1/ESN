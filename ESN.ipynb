{
 "cells": [
  {
   "cell_type": "code",
   "execution_count": 53,
   "metadata": {
    "collapsed": false
   },
   "outputs": [],
   "source": [
    "import numpy as np\n",
    "import pandas as pd\n",
    "import scipy.sparse as sparse\n",
    "\n",
    "from sklearn import preprocessing\n",
    "from sklearn.model_selection import train_test_split\n",
    "from sklearn import metrics\n",
    "\n",
    "import matplotlib.pyplot as plt\n",
    "%matplotlib inline\n",
    "\n",
    "from PIL import Image\n",
    "from scipy.io import loadmat\n",
    "\n",
    "import math\n"
   ]
  },
  {
   "cell_type": "code",
   "execution_count": 2,
   "metadata": {
    "collapsed": false
   },
   "outputs": [],
   "source": [
    "# data = np.loadtxt('MackeyGlass_t17.txt')"
   ]
  },
  {
   "cell_type": "code",
   "execution_count": 3,
   "metadata": {
    "collapsed": false
   },
   "outputs": [],
   "source": [
    "# Constants\n",
    "density = 1\n",
    "\n",
    "# generate the ESN reservoir\n",
    "inSize = outSize = 10\n",
    "resSize = 10 # reservoir size\n",
    "alpha = 1 # leaking rate\n",
    "\n",
    "random_state=42\n",
    "#random.seed(42)\n",
    "\n",
    "dataLen = 10000\n",
    "trainLen = 8000"
   ]
  },
  {
   "cell_type": "code",
   "execution_count": 4,
   "metadata": {
    "collapsed": false
   },
   "outputs": [],
   "source": [
    "#W = np.random.rand(10,10)-0.5 "
   ]
  },
  {
   "cell_type": "code",
   "execution_count": 5,
   "metadata": {
    "collapsed": true
   },
   "outputs": [],
   "source": [
    "# FIXME: move to sparse matrix\n",
    "def spectral_radius(matrix):\n",
    "    '''\n",
    "    Calculate spectral radius of matrix. \n",
    "    Spectral radius is max absolute eigenvalue.\n",
    "    '''\n",
    "    # FIXME: remove code below\n",
    "    inner = matrix\n",
    "    eigenvalues = np.linalg.eig(inner)[0]\n",
    "    return max(abs(eigenvalues))"
   ]
  },
  {
   "cell_type": "code",
   "execution_count": 6,
   "metadata": {
    "collapsed": false
   },
   "outputs": [],
   "source": [
    "def build_reservoir():\n",
    "    # FIXME: move to spartial\n",
    "    # include bias term\n",
    "    Win =  sparse.rand(resSize, inSize + 1, density=1, random_state=random_state)\n",
    "    Win -= (Win.sign()*0.5)\n",
    "    \n",
    "    W = sparse.rand(resSize, resSize, density=density, random_state=random_state)\n",
    "    W -= W.sign()*0.5\n",
    "    W *= 1.25/spectral_radius(W.toarray())\n",
    "    return (Win.toarray(), W.toarray())\n",
    "    #return (Win, W)"
   ]
  },
  {
   "cell_type": "code",
   "execution_count": 7,
   "metadata": {
    "collapsed": false
   },
   "outputs": [],
   "source": [
    "Win, W = build_reservoir()"
   ]
  },
  {
   "cell_type": "code",
   "execution_count": 8,
   "metadata": {
    "collapsed": false
   },
   "outputs": [],
   "source": [
    "my_data = np.genfromtxt('train.cv', delimiter=',')"
   ]
  },
  {
   "cell_type": "code",
   "execution_count": 9,
   "metadata": {
    "collapsed": false
   },
   "outputs": [
    {
     "name": "stdout",
     "output_type": "stream",
     "text": [
      "3.0\n"
     ]
    },
    {
     "data": {
      "text/plain": [
       "<matplotlib.image.AxesImage at 0x15e3c34a8>"
      ]
     },
     "execution_count": 9,
     "metadata": {},
     "output_type": "execute_result"
    },
    {
     "data": {
      "image/png": "[encoded data removed]",
      "text/plain": [
       "<matplotlib.figure.Figure at 0x112235e10>"
      ]
     },
     "metadata": {},
     "output_type": "display_data"
    }
   ],
   "source": [
    "row = 10\n",
    "num = my_data[row, :][0]\n",
    "pic=my_data[row, :][1:].reshape(28,28)\n",
    "print(num)\n",
    "plt.matshow(pic, cmap='Greys')"
   ]
  },
  {
   "cell_type": "code",
   "execution_count": 10,
   "metadata": {
    "collapsed": false
   },
   "outputs": [],
   "source": [
    "def extract(row):\n",
    "    num = row[0]\n",
    "    pic = row[1:]\n",
    "    return (num, pic)\n",
    "\n",
    "def encode2vec(num):\n",
    "    converted = int(num) % 10\n",
    "    result = np.zeros((10,), dtype='int')\n",
    "    result[converted] = 1\n",
    "    return result\n",
    "\n",
    "def normalize_pixel(pixels):\n",
    "    return pixels/256\n",
    "\n",
    "Y = np.ndarray((42000,1), dtype='int')\n",
    "Y_t = np.ndarray((42000,10), dtype='int')\n",
    "U = np.ndarray((42000,784))\n",
    "\n",
    "for i in range(1,42001):\n",
    "    num, pic = extract(my_data[i, :])\n",
    "    Y[i-1, :] = num\n",
    "    U[i-1, :] = normalize_pixel(pic)\n",
    "    \n",
    "X_train, X_test, y_train, y_test = train_test_split(U, Y, test_size=0.2, random_state=42, stratify=Y)\n",
    "y_v_train = np.ndarray((y_train.shape[0], 10), dtype=int, buffer=np.array([encode2vec(y) for y in y_train]))\n",
    "y_v_test = np.ndarray((y_test.shape[0], 10), dtype=int, buffer=np.array([encode2vec(y) for y in y_test]))"
   ]
  },
  {
   "cell_type": "code",
   "execution_count": 11,
   "metadata": {
    "collapsed": false
   },
   "outputs": [
    {
     "data": {
      "text/plain": [
       "(33600, 784)"
      ]
     },
     "execution_count": 11,
     "metadata": {},
     "output_type": "execute_result"
    }
   ],
   "source": [
    "X_train.shape"
   ]
  },
  {
   "cell_type": "code",
   "execution_count": 12,
   "metadata": {
    "collapsed": false
   },
   "outputs": [
    {
     "data": {
      "text/plain": [
       "(33600, 10)"
      ]
     },
     "execution_count": 12,
     "metadata": {},
     "output_type": "execute_result"
    }
   ],
   "source": [
    "y_v_train.shape"
   ]
  },
  {
   "cell_type": "code",
   "execution_count": 13,
   "metadata": {
    "collapsed": true
   },
   "outputs": [],
   "source": [
    "# load the data\n",
    "trainLen = 2000\n",
    "testLen = 2000\n",
    "initLen = 0 # Practical ESN 4.5\n",
    "\n",
    "# generate the ESN reservoir\n",
    "sequenceLength=784\n",
    "inSize = 1\n",
    "outSize = 10\n",
    "resSize = 1000\n",
    "a = 0.1 # leaking rate"
   ]
  },
  {
   "cell_type": "code",
   "execution_count": 14,
   "metadata": {
    "collapsed": false
   },
   "outputs": [],
   "source": [
    "Win, W = build_reservoir()"
   ]
  },
  {
   "cell_type": "code",
   "execution_count": 17,
   "metadata": {
    "collapsed": false
   },
   "outputs": [],
   "source": [
    "# for i in range(0,10000):\n",
    "#     data[i] = abs(math.sin(math.log(1+i**(0.5))))\n",
    "# plt.plot(data[0:10000])"
   ]
  },
  {
   "cell_type": "code",
   "execution_count": 69,
   "metadata": {
    "collapsed": false
   },
   "outputs": [
    {
     "data": {
      "text/plain": [
       "array([[ 0.,  0.,  0., ...,  0.,  0.,  0.],\n",
       "       [ 0.,  0.,  0., ...,  0.,  0.,  0.],\n",
       "       [ 0.,  0.,  0., ...,  0.,  0.,  0.],\n",
       "       ..., \n",
       "       [ 0.,  0.,  0., ...,  0.,  0.,  0.],\n",
       "       [ 0.,  0.,  0., ...,  0.,  0.,  0.],\n",
       "       [ 0.,  0.,  0., ...,  0.,  0.,  0.]])"
      ]
     },
     "execution_count": 69,
     "metadata": {},
     "output_type": "execute_result"
    }
   ],
   "source": [
    "X_train"
   ]
  },
  {
   "cell_type": "code",
   "execution_count": 112,
   "metadata": {
    "collapsed": false
   },
   "outputs": [
    {
     "name": "stdout",
     "output_type": "stream",
     "text": [
      "CPU times: user 1h 41min 51s, sys: 12min 12s, total: 1h 54min 3s\n",
      "Wall time: 51min 39s\n"
     ]
    }
   ],
   "source": [
    "%%time\n",
    "examples, sequenceLength = X_train.shape\n",
    "\n",
    "#X = np.zeros((1+inSize+resSize,examples))\n",
    "#X = np.zeros((examples, 1+resSize))\n",
    "\n",
    "# set the corresponding target matrix directly\n",
    "#Yt = data[None,initLen+1:trainLen+1] \n",
    "\n",
    "\n",
    "# run the reservoir with the data and collect X\n",
    "bias = np.ones((1, examples))\n",
    "# build reservoir for this example\n",
    "x = np.zeros((resSize,examples))\n",
    "for pic in range(sequenceLength):\n",
    "    u = X_train[:, pic]\n",
    "    x = (1-a)*x + a*np.tanh( np.dot( Win, np.vstack((bias,u)) ) + np.dot( W, x ) )\n",
    "    print(pic, end=\"\\r\")\n",
    "X = np.vstack((bias,x))\n"
   ]
  },
  {
   "cell_type": "code",
   "execution_count": 107,
   "metadata": {
    "collapsed": false
   },
   "outputs": [
    {
     "data": {
      "text/plain": [
       "784"
      ]
     },
     "execution_count": 107,
     "metadata": {},
     "output_type": "execute_result"
    }
   ],
   "source": []
  },
  {
   "cell_type": "code",
   "execution_count": null,
   "metadata": {
    "collapsed": false
   },
   "outputs": [],
   "source": [
    "# OLD\n",
    "# # Our time of interest is 784, when all pixels was read by reservoir \n",
    "# examples, sequenceLength = X_train.shape\n",
    "\n",
    "# #X = np.zeros((1+inSize+resSize,examples))\n",
    "# X = np.zeros((examples, 1+resSize))\n",
    "# # set the corresponding target matrix directly\n",
    "# #Yt = data[None,initLen+1:trainLen+1] \n",
    "\n",
    "\n",
    "# # run the reservoir with the data and collect X\n",
    "\n",
    "# for e in range(examples):\n",
    "#     picture = X_train[e]\n",
    "#     # build reservoir for this example\n",
    "#     x = np.zeros((resSize,1))\n",
    "#     for pic in picture:\n",
    "#         u = pic\n",
    "#         x = (1-a)*x + a*np.tanh( np.dot( Win, np.vstack((1,u)) ) + np.dot( W, x ) )\n",
    "#     X[e,:] = np.vstack((1,x))[:,0]\n",
    "#     print(e, end='\\r')\n",
    "\n",
    "# for t in range(trainLen):\n",
    "#     u = data[t]\n",
    "#     x = (1-a)*x + a*np.tanh( np.dot( Win, np.vstack((1,u)) ) + np.dot( W, x ) )\n",
    "#     if t >= initLen:\n",
    "#         X[:,t-initLen] = np.vstack((1,u,x))[:,0]\n",
    "        \n",
    "# reg = 1e-1  # regularization coefficient\n",
    "# X_T = X.T\n",
    "# Wout = np.dot( np.dot(Yt,X_T), np.linalg.inv( np.dot(X,X_T) + \\\n",
    "#     reg*np.eye(1+inSize+resSize) ) ) \n",
    "\n",
    "\n",
    "# Y = np.zeros((outSize,testLen))\n",
    "# u = data[trainLen]\n",
    "# for t in range(testLen):\n",
    "#     x = (1-a)*x + a*np.tanh( np.dot( Win, np.vstack((1,u)) ) + np.dot( W, x ) )\n",
    "# #     x = np.tanh( np.dot( Win, np.vstack((1,u)) ) + np.dot( W, x ) )\n",
    "#     y = np.dot( Wout, np.vstack((1,u,x)) )\n",
    "#     Y[:,t] = y\n",
    "#     # generative mode:\n",
    "#     u = y\n",
    "#     ## this would be a predictive mode:\n",
    "#     #u = data[trainLen+t+1] \n",
    "    \n",
    "# errorLen = 1000\n",
    "# mse = np.sum( np.square( data[trainLen+1:trainLen+errorLen+1] - Y[0,0:errorLen] ) ) / errorLen\n",
    "# print('MSE = ' + str( mse ))\n",
    "\n",
    "\n",
    "# plt.figure(1).clear()\n",
    "# plt.plot( data[trainLen+1:trainLen+testLen+1], 'g' )\n",
    "# plt.plot( Y.T, 'b' )\n",
    "# plt.title('Target and generated signals $y(n)$ starting at $n=0$')\n",
    "# plt.legend(['Target signal', 'Free-running predicted signal'])\n",
    "\n",
    "\n",
    "# plt.figure(2).clear()\n",
    "# plt.plot( X[0:20,0:200].T )\n",
    "# plt.title('Some reservoir activations $\\mathbf{x}(n)$')"
   ]
  },
  {
   "cell_type": "code",
   "execution_count": 174,
   "metadata": {
    "collapsed": false
   },
   "outputs": [],
   "source": [
    "X_processed = X[0:5000, :]"
   ]
  },
  {
   "cell_type": "code",
   "execution_count": 117,
   "metadata": {
    "collapsed": false
   },
   "outputs": [],
   "source": [
    "reg = 1e-6  # regularization coefficient\n",
    "X_T = X.T\n",
    "Wout = np.dot( np.dot(y_v_train.T,X_T), np.linalg.inv( np.dot(X,X_T) + \\\n",
    "    reg*np.eye(1+resSize) ) ) "
   ]
  },
  {
   "cell_type": "code",
   "execution_count": 116,
   "metadata": {
    "collapsed": false
   },
   "outputs": [
    {
     "data": {
      "text/plain": [
       "(1001, 33600)"
      ]
     },
     "execution_count": 116,
     "metadata": {},
     "output_type": "execute_result"
    }
   ],
   "source": []
  },
  {
   "cell_type": "code",
   "execution_count": 68,
   "metadata": {
    "collapsed": false
   },
   "outputs": [],
   "source": [
    "# OLD\n",
    "\n",
    "# %%time\n",
    "# # Our time of interest is 784, when all pixels was read by reservoir \n",
    "# examples, sequenceLength = X_test.shape\n",
    "\n",
    "\n",
    "# # run the reservoir with the data and collect X\n",
    "# predicts = []\n",
    "# for e in range(examples):\n",
    "#     picture = X_test[e]\n",
    "#         # build reservoir for this example\n",
    "#     x = np.zeros((resSize,1))\n",
    "#     for pic in picture:\n",
    "#         u = pic\n",
    "#         x = (1-a)*x + a*np.tanh( np.dot( Win, np.vstack((1,u)) ) + np.dot( W, x ) )\n",
    "#     y = np.dot( Wout, np.vstack((1,x)) )\n",
    "#     predicts.append(y)\n",
    "#     print(e, end='\\r')\n",
    "\n",
    "# predict = np.array([np.argmax(predict) for predict in predicts])\n",
    "# print('Accuracy ', metrics.accuracy_score(y_test, predict))\n",
    "# print(metrics.classification_report(y_test, predict))"
   ]
  },
  {
   "cell_type": "code",
   "execution_count": 32,
   "metadata": {
    "collapsed": false
   },
   "outputs": [],
   "source": []
  },
  {
   "cell_type": "code",
   "execution_count": null,
   "metadata": {
    "collapsed": false
   },
   "outputs": [],
   "source": [
    "%%time\n",
    "x = np.zeros((resSize,examples))\n",
    "bias = np.ones((1, examples))\n",
    "for pix in range(X_test.shape[1]):\n",
    "    u = X_test[:, pix]\n",
    "    x = (1-a)*x + a*np.tanh( np.dot( Win, np.vstack((bias,u)) ) + np.dot( W, x ) )\n",
    "    print(pix, end=\"\\r\")\n",
    "y = np.dot( Wout, np.vstack((bias,x)) )\n",
    "predict = np.array(np.argmax(y, axis=0))\n",
    "\n",
    "print(metrics.classification_report(y_test, predict))\n",
    "print('Accuracy ', metrics.accuracy_score(y_test, predict))"
   ]
  },
  {
   "cell_type": "code",
   "execution_count": 260,
   "metadata": {
    "collapsed": false
   },
   "outputs": [
    {
     "name": "stdout",
     "output_type": "stream",
     "text": [
      "Overwriting esn_classifier.py\n"
     ]
    }
   ],
   "source": [
    "%%file esn_classifier.py\n",
    "from sklearn.base import BaseEstimator, ClassifierMixin\n",
    "import numpy as np\n",
    "import scipy.sparse as sparse\n",
    "\n",
    "class EsnClassifier(BaseEstimator, ClassifierMixin):\n",
    "    \"\"\"Echo state network classifier\"\"\"\n",
    "    def __init__(self, \\\n",
    "                 density=1, reservoirSize=100, outputleakingRate=1, \\\n",
    "                 inputSize=1, outputSize=1, leakingRate = 1, \\\n",
    "                 randomState=None, regularizationCoefficient=10e-6):\n",
    "        \"\"\"\n",
    "        Called when initializing the classifier\n",
    "        \"\"\"\n",
    "        self.density = 1\n",
    "        self.reservoirSize = 100\n",
    "        self.leakingRate = leakingRate\n",
    "        self.randomState = randomState\n",
    "        self.outputSize = outputSize\n",
    "        self.inputSize = inputSize\n",
    "        self.regularizationCoefficient = regularizationCoefficient\n",
    "    \n",
    "    def fit(self, X, y=None):\n",
    "        \"\"\"\n",
    "        \"\"\"\n",
    "        # FIXME: add Asserts or try/catch\n",
    "        \n",
    "        examples, sequenceLength = X.shape\n",
    "        self.Win_, self.W_ = self.build_reservoirs()\n",
    "    \n",
    "        bias = np.ones((1, examples))\n",
    "        \n",
    "        # run the reservoir with the data and collect X\n",
    "        x = np.zeros((self.reservoirSize,examples))\n",
    "        for pic in range(sequenceLength):\n",
    "            u = X[:, pic]\n",
    "            x = (1-self.leakingRate)*x + self.leakingRate*np.tanh( np.dot( self.Win_, np.vstack((bias,u)) ) + np.dot( self.W_, x ) )\n",
    "            print(pic, end=\"\\r\")\n",
    "        \n",
    "        # Reservoir values\n",
    "        X = np.vstack((bias,x))\n",
    "        \n",
    "        # Fit linear regression\n",
    "        X_T = X.T\n",
    "        self.Wout_ = np.dot( np.dot(y.T,X_T), np.linalg.inv( np.dot(X,X_T) + \\\n",
    "            self.regularizationCoefficient*np.eye(1+self.reservoirSize) ) ) \n",
    "        return self\n",
    "    \n",
    "    def predict(self, X, y=None):\n",
    "        '''\n",
    "        '''\n",
    "        examples, sequenceLength = X.shape\n",
    "        x = np.zeros((self.reservoirSize,examples))\n",
    "        bias = np.ones((1, examples))\n",
    "        for pix in range(sequenceLength):\n",
    "            u = X[:, pix]\n",
    "            x = (1-self.leakingRate)*x + self.leakingRate*np.tanh( np.dot( self.Win_, np.vstack((bias,u)) ) + np.dot( self.W_, x ) )\n",
    "            print(pix, end=\"\\r\")\n",
    "            \n",
    "        y = np.dot( self.Wout_, np.vstack((bias,x)) ).T \n",
    "        return np.array(np.argmax(y, axis=1))\n",
    "    \n",
    "    \n",
    "    # Helpers to build reservoir\n",
    "    def __spectral_radius(self, matrix):\n",
    "        '''\n",
    "        Calculate spectral radius of matrix. \n",
    "        Spectral radius is max absolute eigenvalue.\n",
    "        '''\n",
    "        # FIXME: remove code below\n",
    "        inner = matrix\n",
    "        eigenvalues = np.linalg.eig(inner)[0]\n",
    "        return max(abs(eigenvalues))\n",
    "    \n",
    "    def build_reservoirs(self):\n",
    "        '''\n",
    "        Generate reservoirs\n",
    "        '''\n",
    "        # FIXME: move to spartial\n",
    "        \n",
    "        # include bias term\n",
    "        Win =  sparse.rand(self.reservoirSize, self.inputSize + 1, density=self.density, random_state=self.randomState)\n",
    "        Win -= (Win.sign()*0.5)\n",
    "\n",
    "        W = sparse.rand(self.reservoirSize, self.reservoirSize, density=self.density, random_state=self.randomState)\n",
    "        W -= W.sign()*0.5\n",
    "        W *= 1.25/self.__spectral_radius(W.toarray())\n",
    "        return (Win.toarray(), W.toarray())"
   ]
  },
  {
   "cell_type": "code",
   "execution_count": 249,
   "metadata": {
    "collapsed": false
   },
   "outputs": [
    {
     "name": "stdout",
     "output_type": "stream",
     "text": [
      "The autoreload extension is already loaded. To reload it, use:\n",
      "  %reload_ext autoreload\n"
     ]
    }
   ],
   "source": [
    "from esn_classifier import EsnClassifier\n",
    "%load_ext autoreload\n",
    "%autoreload 2"
   ]
  },
  {
   "cell_type": "code",
   "execution_count": 250,
   "metadata": {
    "collapsed": false
   },
   "outputs": [
    {
     "data": {
      "text/plain": [
       "8816"
      ]
     },
     "execution_count": 250,
     "metadata": {},
     "output_type": "execute_result"
    }
   ],
   "source": [
    "def extract(row):\n",
    "    num = row[0]\n",
    "    pic = row[1:]\n",
    "    return (num, pic)\n",
    "\n",
    "def encode2vec(num):\n",
    "    converted = int(num) % 10\n",
    "    result = np.zeros((10,), dtype='int')\n",
    "    result[converted] = 1\n",
    "    return result\n",
    "\n",
    "def normalize_pixel(pixels):\n",
    "    return pixels/256\n",
    "\n",
    "Y = np.ndarray((8816,1), dtype='int')\n",
    "Y_t = np.ndarray((8816,10), dtype='int')\n",
    "U = np.ndarray((8816,784))\n",
    "counter = 0\n",
    "for i in range(1,42001):\n",
    "    num, pic = extract(my_data[i, :])\n",
    "    if int(num) not in [1,0]:\n",
    "        continue\n",
    "    Y[counter, :] = int(num)\n",
    "    U[counter, :] = normalize_pixel(pic)\n",
    "    counter +=1\n",
    "    \n",
    "X_train, X_test, y_train, y_test = train_test_split(U, Y, test_size=0.8, random_state=42)\n",
    "y_v_train = np.ndarray((y_train.shape[0], 10), dtype=int, buffer=np.array([encode2vec(y) for y in y_train]))\n",
    "y_v_test = np.ndarray((y_test.shape[0], 10), dtype=int, buffer=np.array([encode2vec(y) for y in y_test]))\n",
    "counter"
   ]
  },
  {
   "cell_type": "code",
   "execution_count": 251,
   "metadata": {
    "collapsed": false
   },
   "outputs": [],
   "source": [
    "clf = EsnClassifier(reservoirSize=1000, outputSize=10)"
   ]
  },
  {
   "cell_type": "code",
   "execution_count": 252,
   "metadata": {
    "collapsed": false
   },
   "outputs": [
    {
     "name": "stdout",
     "output_type": "stream",
     "text": [
      "783\r"
     ]
    },
    {
     "data": {
      "text/plain": [
       "EsnClassifier(density=1, inputSize=1, leakingRate=1, outputSize=10,\n",
       "       outputleakingRate=None, randomState=None,\n",
       "       regularizationCoefficient=1e-05, reservoirSize=100)"
      ]
     },
     "execution_count": 252,
     "metadata": {},
     "output_type": "execute_result"
    }
   ],
   "source": [
    "clf.fit(X_train[0:100,:], y_v_train[0:100, :])"
   ]
  },
  {
   "cell_type": "code",
   "execution_count": 253,
   "metadata": {
    "collapsed": false
   },
   "outputs": [
    {
     "name": "stdout",
     "output_type": "stream",
     "text": [
      "783\r"
     ]
    },
    {
     "data": {
      "text/plain": [
       "array([0, 1, 1, 0, 0, 1, 0, 1, 1, 0, 1, 1, 1, 1, 1, 0, 1, 1, 1, 1, 1, 1, 1,\n",
       "       1, 1, 0, 1, 1, 1, 0, 0, 1, 1, 0, 1, 0, 0, 1, 0, 1, 0, 1, 0, 1, 1, 1,\n",
       "       1, 1, 1, 0, 1, 1, 0, 0, 0, 1, 1, 0, 0, 1, 1, 1, 0, 1, 1, 1, 1, 1, 1,\n",
       "       1, 1, 1, 1, 1, 1, 1, 1, 1, 0, 0, 1, 1, 0, 1, 0, 0, 1, 1, 1, 1, 1, 1,\n",
       "       1, 1, 1, 1, 1, 1, 1, 1])"
      ]
     },
     "execution_count": 253,
     "metadata": {},
     "output_type": "execute_result"
    }
   ],
   "source": [
    "clf.predict(X_train[0:100, :])"
   ]
  },
  {
   "cell_type": "code",
   "execution_count": 214,
   "metadata": {
    "collapsed": false
   },
   "outputs": [],
   "source": [
    "examples, sequenceLength = X_train[0:100, :].shape\n",
    "x = np.zeros((clf.reservoirSize,examples))"
   ]
  },
  {
   "cell_type": "code",
   "execution_count": 256,
   "metadata": {
    "collapsed": false
   },
   "outputs": [
    {
     "data": {
      "text/plain": [
       "array([[0],\n",
       "       [1],\n",
       "       [1],\n",
       "       [0],\n",
       "       [0],\n",
       "       [1],\n",
       "       [0],\n",
       "       [1],\n",
       "       [1],\n",
       "       [1],\n",
       "       [1],\n",
       "       [0],\n",
       "       [1],\n",
       "       [1],\n",
       "       [1],\n",
       "       [0],\n",
       "       [1],\n",
       "       [1],\n",
       "       [0],\n",
       "       [1],\n",
       "       [1],\n",
       "       [1],\n",
       "       [0],\n",
       "       [1],\n",
       "       [0],\n",
       "       [0],\n",
       "       [1],\n",
       "       [1],\n",
       "       [1],\n",
       "       [0],\n",
       "       [0],\n",
       "       [1],\n",
       "       [1],\n",
       "       [0],\n",
       "       [1],\n",
       "       [0],\n",
       "       [0],\n",
       "       [1],\n",
       "       [0],\n",
       "       [0],\n",
       "       [0],\n",
       "       [1],\n",
       "       [0],\n",
       "       [0],\n",
       "       [1],\n",
       "       [1],\n",
       "       [1],\n",
       "       [0],\n",
       "       [0],\n",
       "       [0],\n",
       "       [1],\n",
       "       [1],\n",
       "       [0],\n",
       "       [0],\n",
       "       [1],\n",
       "       [0],\n",
       "       [1],\n",
       "       [0],\n",
       "       [0],\n",
       "       [0],\n",
       "       [1],\n",
       "       [1],\n",
       "       [0],\n",
       "       [1],\n",
       "       [0],\n",
       "       [1],\n",
       "       [0],\n",
       "       [0],\n",
       "       [1],\n",
       "       [1],\n",
       "       [1],\n",
       "       [1],\n",
       "       [1],\n",
       "       [0],\n",
       "       [1],\n",
       "       [0],\n",
       "       [1],\n",
       "       [1],\n",
       "       [0],\n",
       "       [0],\n",
       "       [0],\n",
       "       [1],\n",
       "       [0],\n",
       "       [0],\n",
       "       [0],\n",
       "       [1],\n",
       "       [0],\n",
       "       [0],\n",
       "       [1],\n",
       "       [0],\n",
       "       [1],\n",
       "       [1],\n",
       "       [0],\n",
       "       [1],\n",
       "       [1],\n",
       "       [0],\n",
       "       [1],\n",
       "       [1],\n",
       "       [0],\n",
       "       [1]])"
      ]
     },
     "execution_count": 256,
     "metadata": {},
     "output_type": "execute_result"
    }
   ],
   "source": [
    "# y_train[0:100, :]"
   ]
  },
  {
   "cell_type": "code",
   "execution_count": 259,
   "metadata": {
    "collapsed": false
   },
   "outputs": [
    {
     "data": {
      "text/plain": [
       "0.53000000000000003"
      ]
     },
     "execution_count": 259,
     "metadata": {},
     "output_type": "execute_result"
    }
   ],
   "source": [
    "# metrics.accuracy_score(y_train[0:100, :], np.ones((100,1)))"
   ]
  },
  {
   "cell_type": "code",
   "execution_count": 232,
   "metadata": {
    "collapsed": false
   },
   "outputs": [],
   "source": [
    "self = clf\n",
    "X = X_train[0:100, :]\n",
    "y = y_v_train[0:100, :]"
   ]
  },
  {
   "cell_type": "code",
   "execution_count": 233,
   "metadata": {
    "collapsed": false
   },
   "outputs": [
    {
     "name": "stdout",
     "output_type": "stream",
     "text": [
      "783\r"
     ]
    }
   ],
   "source": [
    "examples, sequenceLength = X.shape\n",
    "self.Win_, self.W_ = self.build_reservoirs()\n",
    "\n",
    "bias = np.ones((1, examples))\n",
    "\n",
    "# run the reservoir with the data and collect X\n",
    "x = np.zeros((self.reservoirSize,examples))\n",
    "for pic in range(sequenceLength):\n",
    "    u = X[:, pic]\n",
    "    x = (1-self.leakingRate)*x + self.leakingRate*np.tanh( np.dot( self.Win_, np.vstack((bias,u)) ) + np.dot( self.W_, x ) )\n",
    "    print(pic, end=\"\\r\")\n",
    "\n",
    "# Reservoir values\n",
    "X = np.vstack((bias,x))\n",
    "\n",
    "# Fit linear regression\n",
    "X_T = X.T"
   ]
  },
  {
   "cell_type": "code",
   "execution_count": 234,
   "metadata": {
    "collapsed": true
   },
   "outputs": [],
   "source": [
    "Wout_ = np.dot( np.dot(y.T,X_T), np.linalg.inv( np.dot(X,X_T) + \\\n",
    "            self.regularizationCoefficient*np.eye(1+self.reservoirSize) ) ) "
   ]
  },
  {
   "cell_type": "code",
   "execution_count": 237,
   "metadata": {
    "collapsed": false
   },
   "outputs": [
    {
     "data": {
      "text/plain": [
       "(10, 101)"
      ]
     },
     "execution_count": 237,
     "metadata": {},
     "output_type": "execute_result"
    }
   ],
   "source": [
    "Wout_.shape"
   ]
  },
  {
   "cell_type": "code",
   "execution_count": 226,
   "metadata": {
    "collapsed": false
   },
   "outputs": [
    {
     "data": {
      "text/plain": [
       "array([[1, 0, 0, ..., 0, 0, 0],\n",
       "       [0, 1, 0, ..., 0, 0, 0],\n",
       "       [0, 1, 0, ..., 0, 0, 0],\n",
       "       ..., \n",
       "       [0, 1, 0, ..., 0, 0, 0],\n",
       "       [1, 0, 0, ..., 0, 0, 0],\n",
       "       [0, 1, 0, ..., 0, 0, 0]])"
      ]
     },
     "execution_count": 226,
     "metadata": {},
     "output_type": "execute_result"
    }
   ],
   "source": [
    "y_v_train"
   ]
  },
  {
   "cell_type": "code",
   "execution_count": 240,
   "metadata": {
    "collapsed": false
   },
   "outputs": [
    {
     "data": {
      "text/plain": [
       "array([[  95.04214842,  -94.8967609 ,    0.        ,    0.        ,\n",
       "           0.        ,    0.        ,    0.        ,    0.        ,\n",
       "           0.        ,    0.        ],\n",
       "       [ 108.89630518, -108.75223612,    0.        ,    0.        ,\n",
       "           0.        ,    0.        ,    0.        ,    0.        ,\n",
       "           0.        ,    0.        ],\n",
       "       [ 104.17599362, -104.02787832,    0.        ,    0.        ,\n",
       "           0.        ,    0.        ,    0.        ,    0.        ,\n",
       "           0.        ,    0.        ],\n",
       "       [ 114.59396403, -114.45055712,    0.        ,    0.        ,\n",
       "           0.        ,    0.        ,    0.        ,    0.        ,\n",
       "           0.        ,    0.        ],\n",
       "       [ 110.03177783, -109.88931505,    0.        ,    0.        ,\n",
       "           0.        ,    0.        ,    0.        ,    0.        ,\n",
       "           0.        ,    0.        ],\n",
       "       [ 123.75233087, -123.61126219,    0.        ,    0.        ,\n",
       "           0.        ,    0.        ,    0.        ,    0.        ,\n",
       "           0.        ,    0.        ],\n",
       "       [ 111.85440965, -111.71448859,    0.        ,    0.        ,\n",
       "           0.        ,    0.        ,    0.        ,    0.        ,\n",
       "           0.        ,    0.        ],\n",
       "       [ 100.48509029, -100.33940958,    0.        ,    0.        ,\n",
       "           0.        ,    0.        ,    0.        ,    0.        ,\n",
       "           0.        ,    0.        ],\n",
       "       [ 118.64650391, -118.50657798,    0.        ,    0.        ,\n",
       "           0.        ,    0.        ,    0.        ,    0.        ,\n",
       "           0.        ,    0.        ],\n",
       "       [ 110.67587357, -110.53398141,    0.        ,    0.        ,\n",
       "           0.        ,    0.        ,    0.        ,    0.        ,\n",
       "           0.        ,    0.        ],\n",
       "       [  96.09527853,  -95.94995738,    0.        ,    0.        ,\n",
       "           0.        ,    0.        ,    0.        ,    0.        ,\n",
       "           0.        ,    0.        ],\n",
       "       [  99.74189654,  -99.59381253,    0.        ,    0.        ,\n",
       "           0.        ,    0.        ,    0.        ,    0.        ,\n",
       "           0.        ,    0.        ],\n",
       "       [ 122.21987331, -122.0793911 ,    0.        ,    0.        ,\n",
       "           0.        ,    0.        ,    0.        ,    0.        ,\n",
       "           0.        ,    0.        ],\n",
       "       [ 121.61331688, -121.47240211,    0.        ,    0.        ,\n",
       "           0.        ,    0.        ,    0.        ,    0.        ,\n",
       "           0.        ,    0.        ],\n",
       "       [ 103.31221334, -103.17068117,    0.        ,    0.        ,\n",
       "           0.        ,    0.        ,    0.        ,    0.        ,\n",
       "           0.        ,    0.        ],\n",
       "       [  95.32247319,  -95.17767699,    0.        ,    0.        ,\n",
       "           0.        ,    0.        ,    0.        ,    0.        ,\n",
       "           0.        ,    0.        ],\n",
       "       [ 106.01862773, -105.87770941,    0.        ,    0.        ,\n",
       "           0.        ,    0.        ,    0.        ,    0.        ,\n",
       "           0.        ,    0.        ],\n",
       "       [ 112.12510976, -111.98079057,    0.        ,    0.        ,\n",
       "           0.        ,    0.        ,    0.        ,    0.        ,\n",
       "           0.        ,    0.        ],\n",
       "       [  98.85074328,  -98.70670368,    0.        ,    0.        ,\n",
       "           0.        ,    0.        ,    0.        ,    0.        ,\n",
       "           0.        ,    0.        ],\n",
       "       [ 112.74375956, -112.60166045,    0.        ,    0.        ,\n",
       "           0.        ,    0.        ,    0.        ,    0.        ,\n",
       "           0.        ,    0.        ],\n",
       "       [  96.77592038,  -96.6347143 ,    0.        ,    0.        ,\n",
       "           0.        ,    0.        ,    0.        ,    0.        ,\n",
       "           0.        ,    0.        ],\n",
       "       [ 102.07832296, -101.93392607,    0.        ,    0.        ,\n",
       "           0.        ,    0.        ,    0.        ,    0.        ,\n",
       "           0.        ,    0.        ],\n",
       "       [ 108.91502835, -108.77216799,    0.        ,    0.        ,\n",
       "           0.        ,    0.        ,    0.        ,    0.        ,\n",
       "           0.        ,    0.        ],\n",
       "       [ 100.09357509,  -99.94922937,    0.        ,    0.        ,\n",
       "           0.        ,    0.        ,    0.        ,    0.        ,\n",
       "           0.        ,    0.        ],\n",
       "       [ 100.30919963, -100.16614801,    0.        ,    0.        ,\n",
       "           0.        ,    0.        ,    0.        ,    0.        ,\n",
       "           0.        ,    0.        ],\n",
       "       [ 110.13948748, -109.99752529,    0.        ,    0.        ,\n",
       "           0.        ,    0.        ,    0.        ,    0.        ,\n",
       "           0.        ,    0.        ],\n",
       "       [ 113.11858803, -112.97850769,    0.        ,    0.        ,\n",
       "           0.        ,    0.        ,    0.        ,    0.        ,\n",
       "           0.        ,    0.        ],\n",
       "       [  93.83496582,  -93.68350945,    0.        ,    0.        ,\n",
       "           0.        ,    0.        ,    0.        ,    0.        ,\n",
       "           0.        ,    0.        ],\n",
       "       [ 109.4006422 , -109.25955219,    0.        ,    0.        ,\n",
       "           0.        ,    0.        ,    0.        ,    0.        ,\n",
       "           0.        ,    0.        ],\n",
       "       [ 120.48602501, -120.34774366,    0.        ,    0.        ,\n",
       "           0.        ,    0.        ,    0.        ,    0.        ,\n",
       "           0.        ,    0.        ],\n",
       "       [ 115.57530286, -115.43286225,    0.        ,    0.        ,\n",
       "           0.        ,    0.        ,    0.        ,    0.        ,\n",
       "           0.        ,    0.        ],\n",
       "       [  91.14430193,  -90.9980906 ,    0.        ,    0.        ,\n",
       "           0.        ,    0.        ,    0.        ,    0.        ,\n",
       "           0.        ,    0.        ],\n",
       "       [ 131.51131249, -131.37500737,    0.        ,    0.        ,\n",
       "           0.        ,    0.        ,    0.        ,    0.        ,\n",
       "           0.        ,    0.        ],\n",
       "       [ 111.28165477, -111.13681931,    0.        ,    0.        ,\n",
       "           0.        ,    0.        ,    0.        ,    0.        ,\n",
       "           0.        ,    0.        ],\n",
       "       [ 100.75160522, -100.60679294,    0.        ,    0.        ,\n",
       "           0.        ,    0.        ,    0.        ,    0.        ,\n",
       "           0.        ,    0.        ],\n",
       "       [ 104.33942045, -104.19996205,    0.        ,    0.        ,\n",
       "           0.        ,    0.        ,    0.        ,    0.        ,\n",
       "           0.        ,    0.        ],\n",
       "       [ 124.11948631, -123.98110723,    0.        ,    0.        ,\n",
       "           0.        ,    0.        ,    0.        ,    0.        ,\n",
       "           0.        ,    0.        ],\n",
       "       [ 128.08260522, -127.94551542,    0.        ,    0.        ,\n",
       "           0.        ,    0.        ,    0.        ,    0.        ,\n",
       "           0.        ,    0.        ],\n",
       "       [  98.63137212,  -98.48417367,    0.        ,    0.        ,\n",
       "           0.        ,    0.        ,    0.        ,    0.        ,\n",
       "           0.        ,    0.        ],\n",
       "       [ 103.70862738, -103.56463798,    0.        ,    0.        ,\n",
       "           0.        ,    0.        ,    0.        ,    0.        ,\n",
       "           0.        ,    0.        ],\n",
       "       [ 132.05527182, -131.92560424,    0.        ,    0.        ,\n",
       "           0.        ,    0.        ,    0.        ,    0.        ,\n",
       "           0.        ,    0.        ],\n",
       "       [  96.67877578,  -96.52871397,    0.        ,    0.        ,\n",
       "           0.        ,    0.        ,    0.        ,    0.        ,\n",
       "           0.        ,    0.        ],\n",
       "       [ 109.89435609, -109.75408382,    0.        ,    0.        ,\n",
       "           0.        ,    0.        ,    0.        ,    0.        ,\n",
       "           0.        ,    0.        ],\n",
       "       [ 114.0347943 , -113.89260382,    0.        ,    0.        ,\n",
       "           0.        ,    0.        ,    0.        ,    0.        ,\n",
       "           0.        ,    0.        ],\n",
       "       [ 122.22735629, -122.09002813,    0.        ,    0.        ,\n",
       "           0.        ,    0.        ,    0.        ,    0.        ,\n",
       "           0.        ,    0.        ],\n",
       "       [  98.2391777 ,  -98.09635841,    0.        ,    0.        ,\n",
       "           0.        ,    0.        ,    0.        ,    0.        ,\n",
       "           0.        ,    0.        ],\n",
       "       [ 111.070287  , -110.92764201,    0.        ,    0.        ,\n",
       "           0.        ,    0.        ,    0.        ,    0.        ,\n",
       "           0.        ,    0.        ],\n",
       "       [ 106.54787245, -106.4047637 ,    0.        ,    0.        ,\n",
       "           0.        ,    0.        ,    0.        ,    0.        ,\n",
       "           0.        ,    0.        ],\n",
       "       [ 110.15238411, -110.00808795,    0.        ,    0.        ,\n",
       "           0.        ,    0.        ,    0.        ,    0.        ,\n",
       "           0.        ,    0.        ],\n",
       "       [ 118.2557313 , -118.11461146,    0.        ,    0.        ,\n",
       "           0.        ,    0.        ,    0.        ,    0.        ,\n",
       "           0.        ,    0.        ],\n",
       "       [  98.18759654,  -98.04247891,    0.        ,    0.        ,\n",
       "           0.        ,    0.        ,    0.        ,    0.        ,\n",
       "           0.        ,    0.        ],\n",
       "       [  99.52517755,  -99.38054842,    0.        ,    0.        ,\n",
       "           0.        ,    0.        ,    0.        ,    0.        ,\n",
       "           0.        ,    0.        ],\n",
       "       [  93.07851247,  -92.9295032 ,    0.        ,    0.        ,\n",
       "           0.        ,    0.        ,    0.        ,    0.        ,\n",
       "           0.        ,    0.        ],\n",
       "       [ 122.18053363, -122.04210849,    0.        ,    0.        ,\n",
       "           0.        ,    0.        ,    0.        ,    0.        ,\n",
       "           0.        ,    0.        ],\n",
       "       [ 105.28587927, -105.14182122,    0.        ,    0.        ,\n",
       "           0.        ,    0.        ,    0.        ,    0.        ,\n",
       "           0.        ,    0.        ],\n",
       "       [ 109.93564114, -109.79562506,    0.        ,    0.        ,\n",
       "           0.        ,    0.        ,    0.        ,    0.        ,\n",
       "           0.        ,    0.        ],\n",
       "       [  96.1215633 ,  -95.97202977,    0.        ,    0.        ,\n",
       "           0.        ,    0.        ,    0.        ,    0.        ,\n",
       "           0.        ,    0.        ],\n",
       "       [ 119.30170481, -119.16299317,    0.        ,    0.        ,\n",
       "           0.        ,    0.        ,    0.        ,    0.        ,\n",
       "           0.        ,    0.        ],\n",
       "       [ 121.43266415, -121.29531526,    0.        ,    0.        ,\n",
       "           0.        ,    0.        ,    0.        ,    0.        ,\n",
       "           0.        ,    0.        ],\n",
       "       [ 106.0235831 , -105.880434  ,    0.        ,    0.        ,\n",
       "           0.        ,    0.        ,    0.        ,    0.        ,\n",
       "           0.        ,    0.        ],\n",
       "       [ 125.19128986, -125.0545329 ,    0.        ,    0.        ,\n",
       "           0.        ,    0.        ,    0.        ,    0.        ,\n",
       "           0.        ,    0.        ],\n",
       "       [ 102.95663739, -102.81503251,    0.        ,    0.        ,\n",
       "           0.        ,    0.        ,    0.        ,    0.        ,\n",
       "           0.        ,    0.        ],\n",
       "       [ 110.57959327, -110.43594475,    0.        ,    0.        ,\n",
       "           0.        ,    0.        ,    0.        ,    0.        ,\n",
       "           0.        ,    0.        ],\n",
       "       [ 111.25310301, -111.10800279,    0.        ,    0.        ,\n",
       "           0.        ,    0.        ,    0.        ,    0.        ,\n",
       "           0.        ,    0.        ],\n",
       "       [ 125.14414423, -125.00443411,    0.        ,    0.        ,\n",
       "           0.        ,    0.        ,    0.        ,    0.        ,\n",
       "           0.        ,    0.        ],\n",
       "       [ 115.94479769, -115.80531416,    0.        ,    0.        ,\n",
       "           0.        ,    0.        ,    0.        ,    0.        ,\n",
       "           0.        ,    0.        ],\n",
       "       [ 103.82541225, -103.68232562,    0.        ,    0.        ,\n",
       "           0.        ,    0.        ,    0.        ,    0.        ,\n",
       "           0.        ,    0.        ],\n",
       "       [ 103.18974572, -103.04261424,    0.        ,    0.        ,\n",
       "           0.        ,    0.        ,    0.        ,    0.        ,\n",
       "           0.        ,    0.        ],\n",
       "       [  88.83546674,  -88.68719646,    0.        ,    0.        ,\n",
       "           0.        ,    0.        ,    0.        ,    0.        ,\n",
       "           0.        ,    0.        ],\n",
       "       [  96.40434362,  -96.25713564,    0.        ,    0.        ,\n",
       "           0.        ,    0.        ,    0.        ,    0.        ,\n",
       "           0.        ,    0.        ],\n",
       "       [ 108.8173769 , -108.67804294,    0.        ,    0.        ,\n",
       "           0.        ,    0.        ,    0.        ,    0.        ,\n",
       "           0.        ,    0.        ],\n",
       "       [ 101.61565791, -101.47124473,    0.        ,    0.        ,\n",
       "           0.        ,    0.        ,    0.        ,    0.        ,\n",
       "           0.        ,    0.        ],\n",
       "       [ 115.48457738, -115.34010216,    0.        ,    0.        ,\n",
       "           0.        ,    0.        ,    0.        ,    0.        ,\n",
       "           0.        ,    0.        ],\n",
       "       [  94.20118203,  -94.04913983,    0.        ,    0.        ,\n",
       "           0.        ,    0.        ,    0.        ,    0.        ,\n",
       "           0.        ,    0.        ],\n",
       "       [ 101.73338157, -101.58639571,    0.        ,    0.        ,\n",
       "           0.        ,    0.        ,    0.        ,    0.        ,\n",
       "           0.        ,    0.        ],\n",
       "       [ 115.91313724, -115.77013957,    0.        ,    0.        ,\n",
       "           0.        ,    0.        ,    0.        ,    0.        ,\n",
       "           0.        ,    0.        ],\n",
       "       [ 104.85409116, -104.70739788,    0.        ,    0.        ,\n",
       "           0.        ,    0.        ,    0.        ,    0.        ,\n",
       "           0.        ,    0.        ],\n",
       "       [ 121.80819494, -121.66604383,    0.        ,    0.        ,\n",
       "           0.        ,    0.        ,    0.        ,    0.        ,\n",
       "           0.        ,    0.        ],\n",
       "       [ 100.23127434, -100.08904927,    0.        ,    0.        ,\n",
       "           0.        ,    0.        ,    0.        ,    0.        ,\n",
       "           0.        ,    0.        ],\n",
       "       [ 101.21722693, -101.07047247,    0.        ,    0.        ,\n",
       "           0.        ,    0.        ,    0.        ,    0.        ,\n",
       "           0.        ,    0.        ],\n",
       "       [ 111.58250425, -111.44572309,    0.        ,    0.        ,\n",
       "           0.        ,    0.        ,    0.        ,    0.        ,\n",
       "           0.        ,    0.        ],\n",
       "       [ 101.29755948, -101.15146265,    0.        ,    0.        ,\n",
       "           0.        ,    0.        ,    0.        ,    0.        ,\n",
       "           0.        ,    0.        ],\n",
       "       [ 101.09401856, -100.94690788,    0.        ,    0.        ,\n",
       "           0.        ,    0.        ,    0.        ,    0.        ,\n",
       "           0.        ,    0.        ],\n",
       "       [ 106.01172364, -105.86885313,    0.        ,    0.        ,\n",
       "           0.        ,    0.        ,    0.        ,    0.        ,\n",
       "           0.        ,    0.        ],\n",
       "       [  96.64971338,  -96.50421217,    0.        ,    0.        ,\n",
       "           0.        ,    0.        ,    0.        ,    0.        ,\n",
       "           0.        ,    0.        ],\n",
       "       [ 118.73178452, -118.59202259,    0.        ,    0.        ,\n",
       "           0.        ,    0.        ,    0.        ,    0.        ,\n",
       "           0.        ,    0.        ],\n",
       "       [ 106.36333215, -106.2200076 ,    0.        ,    0.        ,\n",
       "           0.        ,    0.        ,    0.        ,    0.        ,\n",
       "           0.        ,    0.        ],\n",
       "       [ 115.24475238, -115.1012934 ,    0.        ,    0.        ,\n",
       "           0.        ,    0.        ,    0.        ,    0.        ,\n",
       "           0.        ,    0.        ],\n",
       "       [  98.73332954,  -98.58724514,    0.        ,    0.        ,\n",
       "           0.        ,    0.        ,    0.        ,    0.        ,\n",
       "           0.        ,    0.        ],\n",
       "       [ 108.86596624, -108.72450698,    0.        ,    0.        ,\n",
       "           0.        ,    0.        ,    0.        ,    0.        ,\n",
       "           0.        ,    0.        ],\n",
       "       [ 103.84963888, -103.70283295,    0.        ,    0.        ,\n",
       "           0.        ,    0.        ,    0.        ,    0.        ,\n",
       "           0.        ,    0.        ],\n",
       "       [  97.63253675,  -97.48412658,    0.        ,    0.        ,\n",
       "           0.        ,    0.        ,    0.        ,    0.        ,\n",
       "           0.        ,    0.        ],\n",
       "       [ 113.74243964, -113.60270783,    0.        ,    0.        ,\n",
       "           0.        ,    0.        ,    0.        ,    0.        ,\n",
       "           0.        ,    0.        ],\n",
       "       [ 107.68461586, -107.54313571,    0.        ,    0.        ,\n",
       "           0.        ,    0.        ,    0.        ,    0.        ,\n",
       "           0.        ,    0.        ],\n",
       "       [ 105.74477723, -105.60511638,    0.        ,    0.        ,\n",
       "           0.        ,    0.        ,    0.        ,    0.        ,\n",
       "           0.        ,    0.        ],\n",
       "       [ 105.44375243, -105.30063749,    0.        ,    0.        ,\n",
       "           0.        ,    0.        ,    0.        ,    0.        ,\n",
       "           0.        ,    0.        ],\n",
       "       [ 113.70841366, -113.56742908,    0.        ,    0.        ,\n",
       "           0.        ,    0.        ,    0.        ,    0.        ,\n",
       "           0.        ,    0.        ],\n",
       "       [ 102.41781254, -102.27493367,    0.        ,    0.        ,\n",
       "           0.        ,    0.        ,    0.        ,    0.        ,\n",
       "           0.        ,    0.        ],\n",
       "       [ 117.32975516, -117.18768694,    0.        ,    0.        ,\n",
       "           0.        ,    0.        ,    0.        ,    0.        ,\n",
       "           0.        ,    0.        ],\n",
       "       [ 102.0043726 , -101.85693556,    0.        ,    0.        ,\n",
       "           0.        ,    0.        ,    0.        ,    0.        ,\n",
       "           0.        ,    0.        ]])"
      ]
     },
     "execution_count": 240,
     "metadata": {},
     "output_type": "execute_result"
    }
   ],
   "source": [
    "# np.dot( self.Wout_, np.vstack((bias,x)) ).T"
   ]
  },
  {
   "cell_type": "code",
   "execution_count": 263,
   "metadata": {
    "collapsed": false
   },
   "outputs": [
    {
     "data": {
      "text/plain": [
       "dict_values([])"
      ]
     },
     "execution_count": 263,
     "metadata": {},
     "output_type": "execute_result"
    }
   ],
   "source": [
    "{}.values()"
   ]
  },
  {
   "cell_type": "code",
   "execution_count": null,
   "metadata": {
    "collapsed": true
   },
   "outputs": [],
   "source": []
  }
 ],
 "metadata": {
  "kernelspec": {
   "display_name": "Python 3",
   "language": "python",
   "name": "python3"
  },
  "language_info": {
   "codemirror_mode": {
    "name": "ipython",
    "version": 3
   },
   "file_extension": ".py",
   "mimetype": "text/x-python",
   "name": "python",
   "nbconvert_exporter": "python",
   "pygments_lexer": "ipython3",
   "version": "3.6.0"
  }
 },
 "nbformat": 4,
 "nbformat_minor": 2
}
